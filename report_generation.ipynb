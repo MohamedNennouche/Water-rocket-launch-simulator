{
 "cells": [
  {
   "cell_type": "markdown",
   "metadata": {},
   "source": [
    "## Importation des librairies"
   ]
  },
  {
   "cell_type": "code",
   "execution_count": 12,
   "metadata": {},
   "outputs": [],
   "source": [
    "from reportlab.lib.pagesizes import A4\n",
    "from reportlab.lib.styles import getSampleStyleSheet, ParagraphStyle\n",
    "from reportlab.lib.units import inch\n",
    "from reportlab.platypus import SimpleDocTemplate, Paragraph, Spacer, Image"
   ]
  },
  {
   "cell_type": "markdown",
   "metadata": {},
   "source": [
    "## Flot de travail"
   ]
  },
  {
   "cell_type": "markdown",
   "metadata": {},
   "source": [
    "- Mettre en place les différents style de paragraphe utilisés : \n",
    "    - Les titres\n",
    "    - Les sous titres\n",
    "    - Les paragraphes\n",
    "- Mettre en place le template pour le PDF\n",
    "- Ajuster les largeurs et hauteurs des figures (mettre une dimension commune à toutes les figures)\n",
    "- Générer un Rapport fictif \n",
    "- Intégrer la génération de PDF avec les équations précédemment faites"
   ]
  },
  {
   "cell_type": "markdown",
   "metadata": {},
   "source": [
    "### 1. Création des différents styles"
   ]
  },
  {
   "cell_type": "code",
   "execution_count": 9,
   "metadata": {},
   "outputs": [],
   "source": [
    "def create_style(styleName, fontName='Helvetica', fontSize=12, parent='Normal', alignment='right', spaceAfter=10) :\n",
    "\n",
    "    alignement_dict = {\"left\" : 0, \"center\" : 1, \"right\" : 2}\n",
    "    style = getSampleStyleSheet()\n",
    "    return ParagraphStyle(styleName,\n",
    "                          fontName=fontName,\n",
    "                          fontSize=fontSize,\n",
    "                          parent=style[parent],\n",
    "                          alignment=alignement_dict[alignment],\n",
    "                          spaceAfter=spaceAfter\n",
    "    )"
   ]
  },
  {
   "cell_type": "code",
   "execution_count": 10,
   "metadata": {},
   "outputs": [],
   "source": [
    "myTitle = create_style('myheading', fontName='Helvetica-Bold', fontSize=32, parent='Heading1', alignment='center',spaceAfter=24)\n",
    "\n",
    "mySubtitle = create_style('mysubheading', fontName='Helvetica-Bold', fontSize=20, parent='Heading2', alignment='left',spaceAfter=16)\n",
    "\n",
    "myPara = create_style('mypara', fontName='Helvetica', fontSize=12, parent='Normal', alignment='left',spaceAfter=10)"
   ]
  },
  {
   "cell_type": "markdown",
   "metadata": {},
   "source": [
    "### Mise en place d'un premier template"
   ]
  },
  {
   "cell_type": "code",
   "execution_count": 16,
   "metadata": {},
   "outputs": [],
   "source": [
    "doc = SimpleDocTemplate(\n",
    "        \"report_draft.pdf\",\n",
    "        pagesize=A4,\n",
    "        rightMargin=72, leftMargin=72,\n",
    "        topMargin=72, bottomMargin=18,\n",
    "        title=\"Rapport\",author=\"Mohamed\"\n",
    "        )\n",
    "flowable = list()\n",
    "reportName = Paragraph(\"Rapport de vol\", myTitle)\n",
    "spacer = Spacer(1, 0.25*inch)\n",
    "moment = Paragraph(\"Moments forts\", mySubtitle)\n",
    "monimage = Image(\"pyplot-table-original.png\", width=300, height=180)\n",
    "monpara = Paragraph(\"\"\"Yes, you just <u>do what you do in HTML</u>.\"\"\", myPara)\n",
    "flowable += [reportName, spacer, moment, monimage, monpara]\n",
    "\n",
    "doc.build(flowable)"
   ]
  }
 ],
 "metadata": {
  "kernelspec": {
   "display_name": "Python 3.8.13 ('base')",
   "language": "python",
   "name": "python3"
  },
  "language_info": {
   "codemirror_mode": {
    "name": "ipython",
    "version": 3
   },
   "file_extension": ".py",
   "mimetype": "text/x-python",
   "name": "python",
   "nbconvert_exporter": "python",
   "pygments_lexer": "ipython3",
   "version": "3.8.13"
  },
  "orig_nbformat": 4,
  "vscode": {
   "interpreter": {
    "hash": "631af202ec7c40e141c49d63cac6c8cb664469fed6e4d5ddc6436b49edc60500"
   }
  }
 },
 "nbformat": 4,
 "nbformat_minor": 2
}
