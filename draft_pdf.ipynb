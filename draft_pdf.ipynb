{
 "cells": [
  {
   "cell_type": "markdown",
   "metadata": {},
   "source": [
    "## Utilité du notebook\n",
    "L'utilité de ce notebook est d'avoir un template de PDF pour le rapport de sortie du simulateur"
   ]
  },
  {
   "cell_type": "code",
   "execution_count": 2,
   "metadata": {},
   "outputs": [],
   "source": [
    "# from reportlab.lib.pagesizes import letter\n",
    "from reportlab.lib.pagesizes import A4\n",
    "from reportlab.pdfgen import canvas\n",
    "import os"
   ]
  },
  {
   "cell_type": "markdown",
   "metadata": {},
   "source": [
    "### Pour avoir un premier document\n",
    "- Avec du texte des lignes et un paramétrage de la font taille ect...\n",
    "- Voir plus en détail le sub module canvas\n",
    "\n",
    "Pour les mesures c'est : 72 points per inch. A letter-size page is 612 x 792 points."
   ]
  },
  {
   "cell_type": "code",
   "execution_count": 6,
   "metadata": {},
   "outputs": [],
   "source": [
    "def form(path):\n",
    "    if os.path.exists(path) : \n",
    "        os.remove(path)\n",
    "    my_canvas = canvas.Canvas(path, pagesize=A4)\n",
    "    my_canvas.setLineWidth(.3)\n",
    "    my_canvas.setFont('Helvetica', 12)\n",
    "    my_canvas.drawString(30, 750, 'OFFICIAL COMMUNIQUE')\n",
    "    my_canvas.drawString(30, 735, 'OF ACME INDUSTRIES')\n",
    "    my_canvas.drawString(500, 750, \"12/12/2010\")\n",
    "    my_canvas.line(480, 747, 580, 747)\n",
    "    my_canvas.drawString(275, 725, 'AMOUNT OWED:')\n",
    "    my_canvas.drawString(500, 725, \"$1,000.00\")\n",
    "    my_canvas.line(378, 723, 580, 723)\n",
    "    my_canvas.drawString(30, 703, 'RECEIVED BY:')\n",
    "    my_canvas.line(120, 700, 580, 700)\n",
    "    my_canvas.drawString(120, 703, \"JOHN DOE\")\n",
    "    my_canvas.save()\n",
    "\n",
    "form('canvas_form.pdf')"
   ]
  },
  {
   "cell_type": "markdown",
   "metadata": {},
   "source": [
    "### Ajouter une image"
   ]
  },
  {
   "cell_type": "code",
   "execution_count": 5,
   "metadata": {},
   "outputs": [],
   "source": [
    "def add_image(image_path):\n",
    "    if os.path.exists(\"canvas_image.pdf\") : \n",
    "        os.remove(\"canvas_image.pdf\")\n",
    "    my_canvas = canvas.Canvas(\"canvas_image.pdf\", pagesize=A4)\n",
    "    my_canvas.drawImage(image_path, 30, 600, width=100, height=100)\n",
    "    my_canvas.save()\n",
    "\n",
    "image_path = 'testgraphique.png'\n",
    "add_image(image_path)"
   ]
  },
  {
   "cell_type": "code",
   "execution_count": 4,
   "metadata": {},
   "outputs": [
    {
     "data": {
      "text/plain": [
       "True"
      ]
     },
     "execution_count": 4,
     "metadata": {},
     "output_type": "execute_result"
    }
   ],
   "source": [
    "os.path.exists('canvas_form.pdf')"
   ]
  }
 ],
 "metadata": {
  "kernelspec": {
   "display_name": "Python 3.8.13 ('base')",
   "language": "python",
   "name": "python3"
  },
  "language_info": {
   "codemirror_mode": {
    "name": "ipython",
    "version": 3
   },
   "file_extension": ".py",
   "mimetype": "text/x-python",
   "name": "python",
   "nbconvert_exporter": "python",
   "pygments_lexer": "ipython3",
   "version": "3.8.13"
  },
  "orig_nbformat": 4,
  "vscode": {
   "interpreter": {
    "hash": "631af202ec7c40e141c49d63cac6c8cb664469fed6e4d5ddc6436b49edc60500"
   }
  }
 },
 "nbformat": 4,
 "nbformat_minor": 2
}
