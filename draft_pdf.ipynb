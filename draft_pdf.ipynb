{
 "cells": [
  {
   "cell_type": "markdown",
   "metadata": {},
   "source": [
    "## Utilité du notebook\n",
    "L'utilité de ce notebook est d'avoir un template de PDF pour le rapport de sortie du simulateur"
   ]
  },
  {
   "cell_type": "code",
   "execution_count": 2,
   "metadata": {},
   "outputs": [],
   "source": [
    "# from reportlab.lib.pagesizes import letter\n",
    "from reportlab.lib.pagesizes import A4\n",
    "from reportlab.pdfgen import canvas\n",
    "import os"
   ]
  },
  {
   "cell_type": "markdown",
   "metadata": {},
   "source": [
    "### Pour avoir un premier document\n",
    "- Avec du texte des lignes et un paramétrage de la font taille ect...\n",
    "- Voir plus en détail le sub module canvas\n",
    "\n",
    "Pour les mesures c'est : 72 points per inch. A letter-size page is 612 x 792 points."
   ]
  },
  {
   "cell_type": "code",
   "execution_count": 6,
   "metadata": {},
   "outputs": [],
   "source": [
    "def form(path):\n",
    "    if os.path.exists(path) : \n",
    "        os.remove(path)\n",
    "    my_canvas = canvas.Canvas(path, pagesize=A4)\n",
    "    my_canvas.setLineWidth(.3)\n",
    "    my_canvas.setFont('Helvetica', 12)\n",
    "    my_canvas.drawString(30, 750, 'OFFICIAL COMMUNIQUE')\n",
    "    my_canvas.drawString(30, 735, 'OF ACME INDUSTRIES')\n",
    "    my_canvas.drawString(500, 750, \"12/12/2010\")\n",
    "    my_canvas.line(480, 747, 580, 747)\n",
    "    my_canvas.drawString(275, 725, 'AMOUNT OWED:')\n",
    "    my_canvas.drawString(500, 725, \"$1,000.00\")\n",
    "    my_canvas.line(378, 723, 580, 723)\n",
    "    my_canvas.drawString(30, 703, 'RECEIVED BY:')\n",
    "    my_canvas.line(120, 700, 580, 700)\n",
    "    my_canvas.drawString(120, 703, \"JOHN DOE\")\n",
    "    my_canvas.save()\n",
    "\n",
    "form('canvas_form.pdf')"
   ]
  },
  {
   "cell_type": "markdown",
   "metadata": {},
   "source": [
    "### Ajouter une image"
   ]
  },
  {
   "cell_type": "code",
   "execution_count": 5,
   "metadata": {},
   "outputs": [],
   "source": [
    "def add_image(image_path):\n",
    "    if os.path.exists(\"canvas_image.pdf\") : \n",
    "        os.remove(\"canvas_image.pdf\")\n",
    "    my_canvas = canvas.Canvas(\"canvas_image.pdf\", pagesize=A4)\n",
    "    my_canvas.drawImage(image_path, 30, 600, width=100, height=100)\n",
    "    my_canvas.save()\n",
    "\n",
    "image_path = 'testgraphique.png'\n",
    "add_image(image_path)"
   ]
  },
  {
   "cell_type": "markdown",
   "metadata": {},
   "source": [
    "### Création de documentation avec plusieurs pages avec platypus"
   ]
  },
  {
   "cell_type": "markdown",
   "metadata": {},
   "source": [
    "C'est la version haut niveau pour mettre en forme des PDF rapidement, on aura principalement : \n",
    "- Paragraph() - for adding text\n",
    "- getSampleStyleSheet() - for applying styles to Paragraphs\n",
    "- Table() - for tabular data\n",
    "- SimpleDocTemplate() - a document template used to hold other flowables"
   ]
  },
  {
   "cell_type": "code",
   "execution_count": 34,
   "metadata": {},
   "outputs": [],
   "source": [
    "from reportlab.lib.pagesizes import A4\n",
    "from reportlab.platypus import SimpleDocTemplate, Paragraph, Image\n",
    "from reportlab.lib.styles import getSampleStyleSheet\n",
    "def hello():\n",
    "    doc = SimpleDocTemplate(\n",
    "            \"hello_platypus.pdf\",\n",
    "            pagesize=A4,\n",
    "            rightMargin=72, leftMargin=72,\n",
    "            topMargin=72, bottomMargin=18,\n",
    "            title=\"Rapport\",author=\"Mohamed\"\n",
    "            )\n",
    "    styles = getSampleStyleSheet()\n",
    "    flowables = []\n",
    "    text = \"Hello, I'm a Paragraph\"\n",
    "    para = Paragraph(text, style=styles[\"Normal\"])\n",
    "    flowables.append(para)\n",
    "    image = Image(\"testgraphique.png\", width=500, height=50)\n",
    "    flowables.append(image)\n",
    "    doc.build(flowables)\n",
    "if __name__ == '__main__':\n",
    "    hello()"
   ]
  },
  {
   "cell_type": "markdown",
   "metadata": {},
   "source": [
    "### Multiplage document"
   ]
  },
  {
   "cell_type": "code",
   "execution_count": 35,
   "metadata": {},
   "outputs": [],
   "source": [
    "from reportlab.lib.pagesizes import A4\n",
    "from reportlab.lib.styles import getSampleStyleSheet\n",
    "from reportlab.lib.units import inch\n",
    "from reportlab.platypus import SimpleDocTemplate, Paragraph, Spacer\n",
    "def create_document():\n",
    "    doc = SimpleDocTemplate(\n",
    "            \"platypus_multipage.pdf\",\n",
    "            pagesize=A4,\n",
    "            )\n",
    "    styles = getSampleStyleSheet()\n",
    "    flowables = []\n",
    "    spacer = Spacer(1, 0.25*inch)\n",
    "    # Create a lot of content to make a multipage PDF\n",
    "    for i in range(50):\n",
    "        text = 'Paragraph #{}'.format(i)\n",
    "        para = Paragraph(text, styles[\"Normal\"])\n",
    "        flowables.append(para)\n",
    "        flowables.append(spacer)\n",
    "    doc.build(flowables)\n",
    "\n",
    "create_document()"
   ]
  },
  {
   "cell_type": "markdown",
   "metadata": {},
   "source": [
    "### Génération d'un tableau avec Matplotlib"
   ]
  },
  {
   "cell_type": "code",
   "execution_count": 33,
   "metadata": {},
   "outputs": [],
   "source": [
    "import matplotlib.pyplot as plt\n",
    "import numpy as np\n",
    "\n",
    "data =  [\n",
    "            [         'Freeze', 'Wind', 'Flood', 'Quake', 'Hail'],\n",
    "            [ '5 year',  66386, 174296,   75131,  577908,  32015],\n",
    "            ['10 year',  58230, 381139,   78045,   99308, 160454],\n",
    "            ['20 year',  89135,  80552,  152558,  497981, 603535],\n",
    "            ['30 year',  78415,  81858,  150656,  193263,  69638],\n",
    "            ['40 year', 139361, 331509,  343164,  781380,  52269],\n",
    "        ]\n",
    "# Pop the headers from the data array\n",
    "column_headers = data.pop(0)\n",
    "row_headers = [x.pop(0) for x in data]\n",
    "\n",
    "cell_text = []\n",
    "for row in data:\n",
    "    cell_text.append([f'{x/1000:1.1f}' for x in row])\n",
    "\n",
    "rcolors = plt.cm.BuPu(np.full(len(row_headers), 0.1))\n",
    "ccolors = plt.cm.BuPu(np.full(len(column_headers), 0.1))\n",
    "\n",
    "plt.figure()\n",
    "the_table = plt.table(cellText=cell_text,\n",
    "                      rowLabels=row_headers,\n",
    "                      rowColours=rcolors,\n",
    "                      rowLoc='right',\n",
    "                      colColours=ccolors,\n",
    "                      colLabels=column_headers,\n",
    "                      loc='center')\n",
    "the_table.scale(1, 1.5)\n",
    "plt.title('Loss by Disaster')\n",
    "plt.box(on=None)\n",
    "#plt.show()\n",
    "\n",
    "ax = plt.gca()\n",
    "ax.get_xaxis().set_visible(False)\n",
    "ax.get_yaxis().set_visible(False)\n",
    "\n",
    "fig = plt.gcf()\n",
    "plt.savefig('pyplot-table-original.png',\n",
    "            bbox_inches='tight',\n",
    "            dpi=150\n",
    "            )"
   ]
  }
 ],
 "metadata": {
  "kernelspec": {
   "display_name": "Python 3.8.13 ('base')",
   "language": "python",
   "name": "python3"
  },
  "language_info": {
   "codemirror_mode": {
    "name": "ipython",
    "version": 3
   },
   "file_extension": ".py",
   "mimetype": "text/x-python",
   "name": "python",
   "nbconvert_exporter": "python",
   "pygments_lexer": "ipython3",
   "version": "3.8.13"
  },
  "orig_nbformat": 4,
  "vscode": {
   "interpreter": {
    "hash": "631af202ec7c40e141c49d63cac6c8cb664469fed6e4d5ddc6436b49edc60500"
   }
  }
 },
 "nbformat": 4,
 "nbformat_minor": 2
}
