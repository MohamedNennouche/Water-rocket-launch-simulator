{
 "cells": [
  {
   "cell_type": "markdown",
   "metadata": {},
   "source": [
    "## Librairies utilisées"
   ]
  },
  {
   "cell_type": "code",
   "execution_count": 22,
   "metadata": {},
   "outputs": [],
   "source": [
    "import numpy as np\n",
    "import pandas as pd\n",
    "import matplotlib.pyplot as plt\n",
    "import seaborn as sns\n",
    "\n",
    "sns.set_theme(style='darkgrid')\n",
    "\n",
    "from reportlab.lib.pagesizes import A4\n",
    "from reportlab.lib.styles import getSampleStyleSheet, ParagraphStyle\n",
    "from reportlab.lib.units import inch\n",
    "from reportlab.platypus import SimpleDocTemplate, Paragraph, Spacer, Image"
   ]
  },
  {
   "cell_type": "markdown",
   "metadata": {},
   "source": [
    "## Paramètres de vol"
   ]
  },
  {
   "cell_type": "markdown",
   "metadata": {},
   "source": [
    "### Conditions initiales"
   ]
  },
  {
   "cell_type": "code",
   "execution_count": 2,
   "metadata": {},
   "outputs": [],
   "source": [
    "Vb = 2\n",
    "Diametre_bouteille = 8.9\n",
    "Diametre_sortie = 0.9\n",
    "Masse_fusee_vide = 0.5 # Mo\n",
    "Cx = 0.1\n",
    "a = 89 # prévoir de le transformer en radians pour utiliser les fonctions trigo\n",
    "lr = 22\n",
    "Po = 10\n",
    "Veo = 0.65"
   ]
  },
  {
   "cell_type": "markdown",
   "metadata": {},
   "source": [
    "### Conversion à faire"
   ]
  },
  {
   "cell_type": "code",
   "execution_count": 3,
   "metadata": {},
   "outputs": [],
   "source": [
    "# Conversion des volumes en mètres cubes\n",
    "Vb /= 1000\n",
    "Veo /= 1000\n",
    "# Conversion de la pression en pascal\n",
    "Po *= 100000 # press\n",
    "# Section de la bouteille en m^2\n",
    "Section_bouteille = (Diametre_bouteille**2)*np.pi/40000\n",
    "Section_goulot = (Diametre_sortie**2)*np.pi/40000\n",
    "lr /= 100"
   ]
  },
  {
   "cell_type": "markdown",
   "metadata": {},
   "source": [
    "### Paramètres environnementaux"
   ]
  },
  {
   "cell_type": "code",
   "execution_count": 4,
   "metadata": {},
   "outputs": [],
   "source": [
    "g = 9.81 # gravité\n",
    "r = 998 # densité de l'eau en Kg/m^3\n",
    "ra = 1.2 # densité de l'air en Kg/m^3\n",
    "Patm = 101325 # pression atmosphérique"
   ]
  },
  {
   "cell_type": "markdown",
   "metadata": {},
   "source": [
    "## Constantes théoriques à calculer"
   ]
  },
  {
   "cell_type": "markdown",
   "metadata": {},
   "source": [
    "### Vitesse initiale (en sortie de rampe)"
   ]
  },
  {
   "cell_type": "code",
   "execution_count": 5,
   "metadata": {},
   "outputs": [],
   "source": [
    "Ax = (Po*Section_goulot-(Masse_fusee_vide+1000*Veo)*g*np.cos((90-a)*np.pi/180))/(Masse_fusee_vide+1000*Veo) # Accélération suivant x\n",
    "t = np.sqrt(2*lr/Ax)\n",
    "Vx = Ax*t # Vitesse au lancement"
   ]
  },
  {
   "cell_type": "code",
   "execution_count": 6,
   "metadata": {},
   "outputs": [],
   "source": [
    "Ax_g = Ax/g # en G\n",
    "Vx_kmh = Vx * 3.6 # en km/h"
   ]
  },
  {
   "cell_type": "markdown",
   "metadata": {},
   "source": [
    "### Force de poussée - calcul du $\\beta$"
   ]
  },
  {
   "cell_type": "code",
   "execution_count": 7,
   "metadata": {},
   "outputs": [],
   "source": [
    "beta = r*(1 - ((Section_goulot/Section_bouteille)**2))"
   ]
  },
  {
   "cell_type": "markdown",
   "metadata": {},
   "source": [
    "## Calcul des paramètres de vol"
   ]
  },
  {
   "cell_type": "markdown",
   "metadata": {},
   "source": [
    "### 1ère colonne : Volume air (m^3)"
   ]
  },
  {
   "cell_type": "code",
   "execution_count": 8,
   "metadata": {},
   "outputs": [],
   "source": [
    "volumes_air = [Vb - Veo]\n",
    "volumes_air_final = (Po + Patm)*(Vb-Veo)/Patm\n",
    "\n",
    "# Premiere phase\n",
    "for i in range(28) :\n",
    "    volumes_air.append(volumes_air[i] + (Vb-volumes_air[0])/29)\n",
    "# Fin premiere phase \n",
    "volumes_air.append(Vb)\n",
    "volumes_air.append(Vb)\n",
    "# Début deuxième phase\n",
    "for i in range(30,48) :\n",
    "    volumes_air.append(volumes_air[i] + (volumes_air_final-volumes_air[30])/19)\n",
    "# Fin deuxième phase\n",
    "volumes_air.append(volumes_air_final)\n",
    "# Fin vecteur"
   ]
  },
  {
   "cell_type": "markdown",
   "metadata": {},
   "source": [
    "### 2eme colonne : Pression air en Pascal"
   ]
  },
  {
   "cell_type": "code",
   "execution_count": 9,
   "metadata": {},
   "outputs": [],
   "source": [
    "pression_air = list()\n",
    "for i in range(len(volumes_air)) : \n",
    "    pression_air.append(((Po + Patm)*(Vb-Veo)/volumes_air[i])-Patm)"
   ]
  },
  {
   "cell_type": "markdown",
   "metadata": {},
   "source": [
    "### 4eme colonne : Vitesse d'éjection en m/s"
   ]
  },
  {
   "cell_type": "code",
   "execution_count": 10,
   "metadata": {},
   "outputs": [],
   "source": [
    "# Phase 1\n",
    "vitesse = list()\n",
    "for i in range(30) :\n",
    "    vitesse.append(np.sqrt(2*pression_air[i]/beta))\n",
    "# Phase 2\n",
    "for i in range(20) :\n",
    "    vitesse.append(np.sqrt(2*pression_air[i+30]/ra))"
   ]
  },
  {
   "cell_type": "markdown",
   "metadata": {},
   "source": [
    "### 3eme colonne : Temps en secondes"
   ]
  },
  {
   "cell_type": "code",
   "execution_count": 11,
   "metadata": {},
   "outputs": [],
   "source": [
    "# Phase 1\n",
    "temps = list()\n",
    "for i in range(30) : \n",
    "    temps.append(((2/3)*volumes_air[i]**1.5 - (2/3)*(Vb-Veo)**1.5)/(Section_goulot*np.sqrt(2*Po*(Vb-Veo)/beta)))\n",
    "# Phase intermédiaire 1\n",
    "temps.append((((2/3)*volumes_air[30]**1.5 - (2/3)*(Vb)**1.5)/(Section_goulot*np.sqrt(2*Po*(Vb-Veo)/beta)))+temps[29])\n",
    "# Phase 2\n",
    "for i in range(19) : \n",
    "    temps.append(temps[30+i]+((volumes_air[31+i]-volumes_air[30+i])/(Section_goulot*((vitesse[31+i]+vitesse[30+i])/2))))\n",
    "# Phase intermédiaire 2\n",
    "temps.append(temps[49])\n",
    "temps.append(temps[50]+0.01)\n",
    "# Phase 3\n",
    "for i in range(547) :\n",
    "    temps.append(temps[i + 51]+ 0.05)"
   ]
  },
  {
   "cell_type": "markdown",
   "metadata": {},
   "source": [
    "### 5eme colonne : Pousée en Newton"
   ]
  },
  {
   "cell_type": "code",
   "execution_count": 12,
   "metadata": {},
   "outputs": [],
   "source": [
    "# Phase 1\n",
    "poussee = list()\n",
    "for i in range(30) : \n",
    "    poussee.append(r*Section_goulot*vitesse[i]**2) \n",
    "# Phase 2\n",
    "for i in range(20) :\n",
    "    poussee.append(ra*Section_goulot*vitesse[30+i]**2)"
   ]
  },
  {
   "cell_type": "markdown",
   "metadata": {},
   "source": [
    "### 7eme colonne : Masse de la fusée"
   ]
  },
  {
   "cell_type": "code",
   "execution_count": 13,
   "metadata": {},
   "outputs": [],
   "source": [
    "# Phase 1\n",
    "masse_fusee = list()\n",
    "for i in range(30) :\n",
    "    masse_fusee.append(Masse_fusee_vide+r*(Vb-volumes_air[i]))\n",
    "# Phase 2\n",
    "for i in range(569) :\n",
    "    masse_fusee.append(Masse_fusee_vide)"
   ]
  },
  {
   "cell_type": "markdown",
   "metadata": {},
   "source": [
    "### Egaliser toutes les listes à 599 éléments"
   ]
  },
  {
   "cell_type": "code",
   "execution_count": 14,
   "metadata": {},
   "outputs": [],
   "source": [
    "for i in range(549) :\n",
    "    poussee.append(0)\n",
    "    volumes_air.append(0)\n",
    "    pression_air.append(0)\n",
    "    vitesse.append(0)"
   ]
  },
  {
   "cell_type": "markdown",
   "metadata": {},
   "source": [
    "### 6eme 8eme et 9eme colonnes : Inclinaison rampe en degrès - Vitesse de la fusée en m/s - Résistance de l'air en Newton"
   ]
  },
  {
   "cell_type": "code",
   "execution_count": 15,
   "metadata": {},
   "outputs": [],
   "source": [
    "# Initialisation\n",
    "inclinaison_rampe=[a]\n",
    "vitesse_fusee = [Vx]\n",
    "resistance_air = list()\n",
    "# Phase 1\n",
    "for i in range(29) :\n",
    "    inclinaison_rampe.append(inclinaison_rampe[i]-np.arctan(g*np.cos(inclinaison_rampe[i]*np.pi/180)*(temps[i+1]-temps[i])/vitesse_fusee[i])*180/np.pi)\n",
    "\n",
    "    resistance_air.append(0.5*ra*Section_bouteille*Cx*(vitesse_fusee[i]**2)) \n",
    "    \n",
    "    vitesse_fusee.append(vitesse_fusee[i]+((poussee[i] - resistance_air[i])/(Masse_fusee_vide + r*(Vb-volumes_air[i+1])) - g*np.sin(inclinaison_rampe[i+1]*np.pi/180))*(temps[i+1]-temps[i]))\n",
    "\n",
    "resistance_air.append(0.5*ra*Section_bouteille*Cx*(vitesse_fusee[29]**2))\n",
    "\n",
    "# Phase intermédiaire\n",
    "inclinaison_rampe.append(inclinaison_rampe[29]-np.arctan(g*np.cos(inclinaison_rampe[29]*np.pi/180)*(temps[30]-temps[29])/vitesse_fusee[29])*180/np.pi)\n",
    "vitesse_fusee.append(vitesse_fusee[29]+(poussee[30]/Masse_fusee_vide)*(temps[30]-temps[29]))\n",
    "resistance_air.append(0.5*ra*Section_bouteille*Cx*(vitesse_fusee[30]**2))\n",
    "\n",
    "# Phase 2\n",
    "for i in range(19) :\n",
    "    inclinaison_rampe.append(inclinaison_rampe[i+30]-np.arctan(g*np.cos(inclinaison_rampe[i+30]*np.pi/180)*(temps[i+31]-temps[i+30])/vitesse_fusee[i+30])*180/np.pi)\n",
    "\n",
    "    vitesse_fusee.append(np.abs(vitesse_fusee[i+30]+((poussee[i+31]-resistance_air[i+30])/Masse_fusee_vide-g*np.sin(inclinaison_rampe[i+31]*np.pi/180))*(temps[i+31]-temps[i+30])))\n",
    "\n",
    "    resistance_air.append(0.5*ra*Section_bouteille*Cx*(vitesse_fusee[i+31]**2))\n",
    "\n",
    "# Phase 3\n",
    "for i in range(549) :\n",
    "    if vitesse_fusee[-2] < vitesse_fusee[-1] :\n",
    "        inclinaison_rampe.append(-np.abs(inclinaison_rampe[-1]-np.arctan((g*np.cos(inclinaison_rampe[-1]*np.pi/180)*(temps[49+i]-temps[48+i]))/vitesse_fusee[-1])*180/np.pi))\n",
    "    else : \n",
    "        inclinaison_rampe.append(inclinaison_rampe[-1]-np.arctan((g*np.cos(inclinaison_rampe[-1]*np.pi/180)*(temps[49+i]-temps[48+i]))/vitesse_fusee[-1])*180/np.pi)\n",
    "    \n",
    "    vitesse_fusee.append(np.abs(vitesse_fusee[-1]+((poussee[49+i]-resistance_air[48+i])/Masse_fusee_vide -g*np.sin(inclinaison_rampe[-1]*np.pi/180))*(temps[49+i]-temps[48+i])))\n",
    "\n",
    "    resistance_air.append(0.5*ra*Section_bouteille*Cx*(vitesse_fusee[-1]**2))"
   ]
  },
  {
   "cell_type": "markdown",
   "metadata": {},
   "source": [
    "### 10eme et 11eme colonnes : X(m) et Y(m)"
   ]
  },
  {
   "cell_type": "code",
   "execution_count": 16,
   "metadata": {},
   "outputs": [],
   "source": [
    "x = [0]\n",
    "y = [0]\n",
    "for i in range(1,599) :\n",
    "    x.append(x[i-1]+vitesse_fusee[i]*(temps[i]-temps[i-1])*np.cos(inclinaison_rampe[i]*np.pi/180))\n",
    "    y.append(y[i-1]+vitesse_fusee[i]*(temps[i]-temps[i-1])*np.sin(inclinaison_rampe[i]*np.pi/180))"
   ]
  },
  {
   "cell_type": "markdown",
   "metadata": {},
   "source": [
    "### 12ème colonne : Accélération en m/s²"
   ]
  },
  {
   "cell_type": "code",
   "execution_count": 17,
   "metadata": {},
   "outputs": [],
   "source": [
    "acceleration = [0]\n",
    "for i in range(1,599) :\n",
    "    if i ==30 or i == 50 : \n",
    "        acceleration.append(acceleration[-1]) # mettre un doublon à la frontière\n",
    "    else : \n",
    "        acceleration.append((vitesse_fusee[i]-vitesse_fusee[i-1])/(temps[i]-temps[i-1]))"
   ]
  },
  {
   "cell_type": "markdown",
   "metadata": {},
   "source": [
    "## Mise en place du tableau final"
   ]
  },
  {
   "cell_type": "code",
   "execution_count": 18,
   "metadata": {},
   "outputs": [],
   "source": [
    "my_data = np.array([volumes_air,pression_air,temps,vitesse,poussee,masse_fusee,inclinaison_rampe,vitesse_fusee,resistance_air,x,y,acceleration]).T"
   ]
  },
  {
   "cell_type": "code",
   "execution_count": 19,
   "metadata": {},
   "outputs": [
    {
     "data": {
      "text/html": [
       "<div>\n",
       "<style scoped>\n",
       "    .dataframe tbody tr th:only-of-type {\n",
       "        vertical-align: middle;\n",
       "    }\n",
       "\n",
       "    .dataframe tbody tr th {\n",
       "        vertical-align: top;\n",
       "    }\n",
       "\n",
       "    .dataframe thead th {\n",
       "        text-align: right;\n",
       "    }\n",
       "</style>\n",
       "<table border=\"1\" class=\"dataframe\">\n",
       "  <thead>\n",
       "    <tr style=\"text-align: right;\">\n",
       "      <th></th>\n",
       "      <th>Volume d'air</th>\n",
       "      <th>Pression d'air</th>\n",
       "      <th>Temps</th>\n",
       "      <th>Vitesse</th>\n",
       "      <th>Poussée</th>\n",
       "      <th>Masse de la fusée</th>\n",
       "      <th>Inclinaison</th>\n",
       "      <th>Vitesse de la fusée</th>\n",
       "      <th>Résistance de l'air</th>\n",
       "      <th>x(t)</th>\n",
       "      <th>y(t)</th>\n",
       "      <th>Accélération</th>\n",
       "    </tr>\n",
       "  </thead>\n",
       "  <tbody>\n",
       "    <tr>\n",
       "      <th>0</th>\n",
       "      <td>0.001350</td>\n",
       "      <td>1000000.000000</td>\n",
       "      <td>0.000000</td>\n",
       "      <td>44.768489</td>\n",
       "      <td>127.247809</td>\n",
       "      <td>1.148700</td>\n",
       "      <td>89.000000</td>\n",
       "      <td>4.474905</td>\n",
       "      <td>0.007475</td>\n",
       "      <td>0.000000</td>\n",
       "      <td>0.000000</td>\n",
       "      <td>0.000000</td>\n",
       "    </tr>\n",
       "    <tr>\n",
       "      <th>1</th>\n",
       "      <td>0.001372</td>\n",
       "      <td>982013.536432</td>\n",
       "      <td>0.007902</td>\n",
       "      <td>44.364049</td>\n",
       "      <td>124.959071</td>\n",
       "      <td>1.126331</td>\n",
       "      <td>88.982677</td>\n",
       "      <td>5.290125</td>\n",
       "      <td>0.010446</td>\n",
       "      <td>0.000742</td>\n",
       "      <td>0.041798</td>\n",
       "      <td>103.160407</td>\n",
       "    </tr>\n",
       "    <tr>\n",
       "      <th>2</th>\n",
       "      <td>0.001395</td>\n",
       "      <td>964605.129790</td>\n",
       "      <td>0.015870</td>\n",
       "      <td>43.969064</td>\n",
       "      <td>122.743889</td>\n",
       "      <td>1.103962</td>\n",
       "      <td>88.967647</td>\n",
       "      <td>6.113728</td>\n",
       "      <td>0.013952</td>\n",
       "      <td>0.001620</td>\n",
       "      <td>0.090500</td>\n",
       "      <td>103.373583</td>\n",
       "    </tr>\n",
       "    <tr>\n",
       "      <th>3</th>\n",
       "      <td>0.001417</td>\n",
       "      <td>947747.354015</td>\n",
       "      <td>0.023901</td>\n",
       "      <td>43.583161</td>\n",
       "      <td>120.598774</td>\n",
       "      <td>1.081593</td>\n",
       "      <td>88.954344</td>\n",
       "      <td>6.946301</td>\n",
       "      <td>0.018011</td>\n",
       "      <td>0.002638</td>\n",
       "      <td>0.146280</td>\n",
       "      <td>103.663083</td>\n",
       "    </tr>\n",
       "    <tr>\n",
       "      <th>4</th>\n",
       "      <td>0.001440</td>\n",
       "      <td>931414.491018</td>\n",
       "      <td>0.031997</td>\n",
       "      <td>43.205987</td>\n",
       "      <td>118.520453</td>\n",
       "      <td>1.059224</td>\n",
       "      <td>88.942390</td>\n",
       "      <td>7.788457</td>\n",
       "      <td>0.022642</td>\n",
       "      <td>0.003802</td>\n",
       "      <td>0.209319</td>\n",
       "      <td>104.030432</td>\n",
       "    </tr>\n",
       "    <tr>\n",
       "      <th>...</th>\n",
       "      <td>...</td>\n",
       "      <td>...</td>\n",
       "      <td>...</td>\n",
       "      <td>...</td>\n",
       "      <td>...</td>\n",
       "      <td>...</td>\n",
       "      <td>...</td>\n",
       "      <td>...</td>\n",
       "      <td>...</td>\n",
       "      <td>...</td>\n",
       "      <td>...</td>\n",
       "      <td>...</td>\n",
       "    </tr>\n",
       "    <tr>\n",
       "      <th>594</th>\n",
       "      <td>0.000000</td>\n",
       "      <td>0.000000</td>\n",
       "      <td>28.270883</td>\n",
       "      <td>0.000000</td>\n",
       "      <td>0.000000</td>\n",
       "      <td>0.500000</td>\n",
       "      <td>-89.928875</td>\n",
       "      <td>110.905047</td>\n",
       "      <td>4.591174</td>\n",
       "      <td>12.134915</td>\n",
       "      <td>-1730.815201</td>\n",
       "      <td>0.638254</td>\n",
       "    </tr>\n",
       "    <tr>\n",
       "      <th>595</th>\n",
       "      <td>0.000000</td>\n",
       "      <td>0.000000</td>\n",
       "      <td>28.320883</td>\n",
       "      <td>0.000000</td>\n",
       "      <td>0.000000</td>\n",
       "      <td>0.500000</td>\n",
       "      <td>-89.929189</td>\n",
       "      <td>110.936693</td>\n",
       "      <td>4.593795</td>\n",
       "      <td>12.141771</td>\n",
       "      <td>-1736.362031</td>\n",
       "      <td>0.632928</td>\n",
       "    </tr>\n",
       "    <tr>\n",
       "      <th>596</th>\n",
       "      <td>0.000000</td>\n",
       "      <td>0.000000</td>\n",
       "      <td>28.370883</td>\n",
       "      <td>0.000000</td>\n",
       "      <td>0.000000</td>\n",
       "      <td>0.500000</td>\n",
       "      <td>-89.929502</td>\n",
       "      <td>110.968075</td>\n",
       "      <td>4.596394</td>\n",
       "      <td>12.148597</td>\n",
       "      <td>-1741.910431</td>\n",
       "      <td>0.627644</td>\n",
       "    </tr>\n",
       "    <tr>\n",
       "      <th>597</th>\n",
       "      <td>0.000000</td>\n",
       "      <td>0.000000</td>\n",
       "      <td>28.420883</td>\n",
       "      <td>0.000000</td>\n",
       "      <td>0.000000</td>\n",
       "      <td>0.500000</td>\n",
       "      <td>-89.929814</td>\n",
       "      <td>110.999195</td>\n",
       "      <td>4.598972</td>\n",
       "      <td>12.155396</td>\n",
       "      <td>-1747.460386</td>\n",
       "      <td>0.622403</td>\n",
       "    </tr>\n",
       "    <tr>\n",
       "      <th>598</th>\n",
       "      <td>0.000000</td>\n",
       "      <td>0.000000</td>\n",
       "      <td>28.470883</td>\n",
       "      <td>0.000000</td>\n",
       "      <td>0.000000</td>\n",
       "      <td>0.500000</td>\n",
       "      <td>-89.930124</td>\n",
       "      <td>111.030056</td>\n",
       "      <td>4.601530</td>\n",
       "      <td>12.162166</td>\n",
       "      <td>-1753.011885</td>\n",
       "      <td>0.617205</td>\n",
       "    </tr>\n",
       "  </tbody>\n",
       "</table>\n",
       "<p>599 rows × 12 columns</p>\n",
       "</div>"
      ],
      "text/plain": [
       "     Volume d'air  Pression d'air      Temps    Vitesse     Poussée  \\\n",
       "0        0.001350  1000000.000000   0.000000  44.768489  127.247809   \n",
       "1        0.001372   982013.536432   0.007902  44.364049  124.959071   \n",
       "2        0.001395   964605.129790   0.015870  43.969064  122.743889   \n",
       "3        0.001417   947747.354015   0.023901  43.583161  120.598774   \n",
       "4        0.001440   931414.491018   0.031997  43.205987  118.520453   \n",
       "..            ...             ...        ...        ...         ...   \n",
       "594      0.000000        0.000000  28.270883   0.000000    0.000000   \n",
       "595      0.000000        0.000000  28.320883   0.000000    0.000000   \n",
       "596      0.000000        0.000000  28.370883   0.000000    0.000000   \n",
       "597      0.000000        0.000000  28.420883   0.000000    0.000000   \n",
       "598      0.000000        0.000000  28.470883   0.000000    0.000000   \n",
       "\n",
       "     Masse de la fusée  Inclinaison  Vitesse de la fusée  Résistance de l'air  \\\n",
       "0             1.148700    89.000000             4.474905             0.007475   \n",
       "1             1.126331    88.982677             5.290125             0.010446   \n",
       "2             1.103962    88.967647             6.113728             0.013952   \n",
       "3             1.081593    88.954344             6.946301             0.018011   \n",
       "4             1.059224    88.942390             7.788457             0.022642   \n",
       "..                 ...          ...                  ...                  ...   \n",
       "594           0.500000   -89.928875           110.905047             4.591174   \n",
       "595           0.500000   -89.929189           110.936693             4.593795   \n",
       "596           0.500000   -89.929502           110.968075             4.596394   \n",
       "597           0.500000   -89.929814           110.999195             4.598972   \n",
       "598           0.500000   -89.930124           111.030056             4.601530   \n",
       "\n",
       "          x(t)         y(t)  Accélération  \n",
       "0     0.000000     0.000000      0.000000  \n",
       "1     0.000742     0.041798    103.160407  \n",
       "2     0.001620     0.090500    103.373583  \n",
       "3     0.002638     0.146280    103.663083  \n",
       "4     0.003802     0.209319    104.030432  \n",
       "..         ...          ...           ...  \n",
       "594  12.134915 -1730.815201      0.638254  \n",
       "595  12.141771 -1736.362031      0.632928  \n",
       "596  12.148597 -1741.910431      0.627644  \n",
       "597  12.155396 -1747.460386      0.622403  \n",
       "598  12.162166 -1753.011885      0.617205  \n",
       "\n",
       "[599 rows x 12 columns]"
      ]
     },
     "execution_count": 19,
     "metadata": {},
     "output_type": "execute_result"
    }
   ],
   "source": [
    "colonnes = [\"Volume d'air\",\"Pression d'air\",\"Temps\",\"Vitesse\",\"Poussée\",\"Masse de la fusée\",\"Inclinaison\",\"Vitesse de la fusée\",\"Résistance de l'air\",\"x(t)\",\"y(t)\",\"Accélération\"]\n",
    "\n",
    "tableau_complet = pd.DataFrame(my_data, columns=colonnes)\n",
    "tableau_complet"
   ]
  },
  {
   "cell_type": "markdown",
   "metadata": {},
   "source": [
    "## Graphiques"
   ]
  },
  {
   "cell_type": "code",
   "execution_count": 24,
   "metadata": {},
   "outputs": [
    {
     "data": {
      "text/html": [
       "<div>\n",
       "<style scoped>\n",
       "    .dataframe tbody tr th:only-of-type {\n",
       "        vertical-align: middle;\n",
       "    }\n",
       "\n",
       "    .dataframe tbody tr th {\n",
       "        vertical-align: top;\n",
       "    }\n",
       "\n",
       "    .dataframe thead th {\n",
       "        text-align: right;\n",
       "    }\n",
       "</style>\n",
       "<table border=\"1\" class=\"dataframe\">\n",
       "  <thead>\n",
       "    <tr style=\"text-align: right;\">\n",
       "      <th></th>\n",
       "      <th>Volume d'air</th>\n",
       "      <th>Pression d'air</th>\n",
       "      <th>Temps</th>\n",
       "      <th>Vitesse</th>\n",
       "      <th>Poussée</th>\n",
       "      <th>Masse de la fusée</th>\n",
       "      <th>Inclinaison</th>\n",
       "      <th>Vitesse de la fusée</th>\n",
       "      <th>Résistance de l'air</th>\n",
       "      <th>x(t)</th>\n",
       "      <th>y(t)</th>\n",
       "      <th>Accélération</th>\n",
       "    </tr>\n",
       "  </thead>\n",
       "  <tbody>\n",
       "    <tr>\n",
       "      <th>0</th>\n",
       "      <td>0.001350</td>\n",
       "      <td>1000000.000000</td>\n",
       "      <td>0.000000</td>\n",
       "      <td>44.768489</td>\n",
       "      <td>127.247809</td>\n",
       "      <td>1.148700</td>\n",
       "      <td>89.000000</td>\n",
       "      <td>4.474905</td>\n",
       "      <td>0.007475</td>\n",
       "      <td>0.000000</td>\n",
       "      <td>0.000000</td>\n",
       "      <td>0.000000</td>\n",
       "    </tr>\n",
       "    <tr>\n",
       "      <th>1</th>\n",
       "      <td>0.001372</td>\n",
       "      <td>982013.536432</td>\n",
       "      <td>0.007902</td>\n",
       "      <td>44.364049</td>\n",
       "      <td>124.959071</td>\n",
       "      <td>1.126331</td>\n",
       "      <td>88.982677</td>\n",
       "      <td>5.290125</td>\n",
       "      <td>0.010446</td>\n",
       "      <td>0.000742</td>\n",
       "      <td>0.041798</td>\n",
       "      <td>103.160407</td>\n",
       "    </tr>\n",
       "    <tr>\n",
       "      <th>2</th>\n",
       "      <td>0.001395</td>\n",
       "      <td>964605.129790</td>\n",
       "      <td>0.015870</td>\n",
       "      <td>43.969064</td>\n",
       "      <td>122.743889</td>\n",
       "      <td>1.103962</td>\n",
       "      <td>88.967647</td>\n",
       "      <td>6.113728</td>\n",
       "      <td>0.013952</td>\n",
       "      <td>0.001620</td>\n",
       "      <td>0.090500</td>\n",
       "      <td>103.373583</td>\n",
       "    </tr>\n",
       "    <tr>\n",
       "      <th>3</th>\n",
       "      <td>0.001417</td>\n",
       "      <td>947747.354015</td>\n",
       "      <td>0.023901</td>\n",
       "      <td>43.583161</td>\n",
       "      <td>120.598774</td>\n",
       "      <td>1.081593</td>\n",
       "      <td>88.954344</td>\n",
       "      <td>6.946301</td>\n",
       "      <td>0.018011</td>\n",
       "      <td>0.002638</td>\n",
       "      <td>0.146280</td>\n",
       "      <td>103.663083</td>\n",
       "    </tr>\n",
       "    <tr>\n",
       "      <th>4</th>\n",
       "      <td>0.001440</td>\n",
       "      <td>931414.491018</td>\n",
       "      <td>0.031997</td>\n",
       "      <td>43.205987</td>\n",
       "      <td>118.520453</td>\n",
       "      <td>1.059224</td>\n",
       "      <td>88.942390</td>\n",
       "      <td>7.788457</td>\n",
       "      <td>0.022642</td>\n",
       "      <td>0.003802</td>\n",
       "      <td>0.209319</td>\n",
       "      <td>104.030432</td>\n",
       "    </tr>\n",
       "    <tr>\n",
       "      <th>...</th>\n",
       "      <td>...</td>\n",
       "      <td>...</td>\n",
       "      <td>...</td>\n",
       "      <td>...</td>\n",
       "      <td>...</td>\n",
       "      <td>...</td>\n",
       "      <td>...</td>\n",
       "      <td>...</td>\n",
       "      <td>...</td>\n",
       "      <td>...</td>\n",
       "      <td>...</td>\n",
       "      <td>...</td>\n",
       "    </tr>\n",
       "    <tr>\n",
       "      <th>202</th>\n",
       "      <td>0.000000</td>\n",
       "      <td>0.000000</td>\n",
       "      <td>8.670883</td>\n",
       "      <td>0.000000</td>\n",
       "      <td>0.000000</td>\n",
       "      <td>0.500000</td>\n",
       "      <td>-89.261712</td>\n",
       "      <td>39.285239</td>\n",
       "      <td>0.576076</td>\n",
       "      <td>6.114893</td>\n",
       "      <td>10.136250</td>\n",
       "      <td>8.707614</td>\n",
       "    </tr>\n",
       "    <tr>\n",
       "      <th>203</th>\n",
       "      <td>0.000000</td>\n",
       "      <td>0.000000</td>\n",
       "      <td>8.720883</td>\n",
       "      <td>0.000000</td>\n",
       "      <td>0.000000</td>\n",
       "      <td>0.500000</td>\n",
       "      <td>-89.270929</td>\n",
       "      <td>39.719362</td>\n",
       "      <td>0.588878</td>\n",
       "      <td>6.140163</td>\n",
       "      <td>8.150442</td>\n",
       "      <td>8.682449</td>\n",
       "    </tr>\n",
       "    <tr>\n",
       "      <th>204</th>\n",
       "      <td>0.000000</td>\n",
       "      <td>0.000000</td>\n",
       "      <td>8.770883</td>\n",
       "      <td>0.000000</td>\n",
       "      <td>0.000000</td>\n",
       "      <td>0.500000</td>\n",
       "      <td>-89.279933</td>\n",
       "      <td>40.152215</td>\n",
       "      <td>0.601783</td>\n",
       "      <td>6.165393</td>\n",
       "      <td>6.142990</td>\n",
       "      <td>8.657073</td>\n",
       "    </tr>\n",
       "    <tr>\n",
       "      <th>205</th>\n",
       "      <td>0.000000</td>\n",
       "      <td>0.000000</td>\n",
       "      <td>8.820883</td>\n",
       "      <td>0.000000</td>\n",
       "      <td>0.000000</td>\n",
       "      <td>0.500000</td>\n",
       "      <td>-89.288729</td>\n",
       "      <td>40.583790</td>\n",
       "      <td>0.614789</td>\n",
       "      <td>6.190583</td>\n",
       "      <td>4.113957</td>\n",
       "      <td>8.631487</td>\n",
       "    </tr>\n",
       "    <tr>\n",
       "      <th>206</th>\n",
       "      <td>0.000000</td>\n",
       "      <td>0.000000</td>\n",
       "      <td>8.870883</td>\n",
       "      <td>0.000000</td>\n",
       "      <td>0.000000</td>\n",
       "      <td>0.500000</td>\n",
       "      <td>-89.297325</td>\n",
       "      <td>41.014074</td>\n",
       "      <td>0.627895</td>\n",
       "      <td>6.215732</td>\n",
       "      <td>2.063407</td>\n",
       "      <td>8.605696</td>\n",
       "    </tr>\n",
       "  </tbody>\n",
       "</table>\n",
       "<p>207 rows × 12 columns</p>\n",
       "</div>"
      ],
      "text/plain": [
       "     Volume d'air  Pression d'air     Temps    Vitesse     Poussée  \\\n",
       "0        0.001350  1000000.000000  0.000000  44.768489  127.247809   \n",
       "1        0.001372   982013.536432  0.007902  44.364049  124.959071   \n",
       "2        0.001395   964605.129790  0.015870  43.969064  122.743889   \n",
       "3        0.001417   947747.354015  0.023901  43.583161  120.598774   \n",
       "4        0.001440   931414.491018  0.031997  43.205987  118.520453   \n",
       "..            ...             ...       ...        ...         ...   \n",
       "202      0.000000        0.000000  8.670883   0.000000    0.000000   \n",
       "203      0.000000        0.000000  8.720883   0.000000    0.000000   \n",
       "204      0.000000        0.000000  8.770883   0.000000    0.000000   \n",
       "205      0.000000        0.000000  8.820883   0.000000    0.000000   \n",
       "206      0.000000        0.000000  8.870883   0.000000    0.000000   \n",
       "\n",
       "     Masse de la fusée  Inclinaison  Vitesse de la fusée  Résistance de l'air  \\\n",
       "0             1.148700    89.000000             4.474905             0.007475   \n",
       "1             1.126331    88.982677             5.290125             0.010446   \n",
       "2             1.103962    88.967647             6.113728             0.013952   \n",
       "3             1.081593    88.954344             6.946301             0.018011   \n",
       "4             1.059224    88.942390             7.788457             0.022642   \n",
       "..                 ...          ...                  ...                  ...   \n",
       "202           0.500000   -89.261712            39.285239             0.576076   \n",
       "203           0.500000   -89.270929            39.719362             0.588878   \n",
       "204           0.500000   -89.279933            40.152215             0.601783   \n",
       "205           0.500000   -89.288729            40.583790             0.614789   \n",
       "206           0.500000   -89.297325            41.014074             0.627895   \n",
       "\n",
       "         x(t)       y(t)  Accélération  \n",
       "0    0.000000   0.000000      0.000000  \n",
       "1    0.000742   0.041798    103.160407  \n",
       "2    0.001620   0.090500    103.373583  \n",
       "3    0.002638   0.146280    103.663083  \n",
       "4    0.003802   0.209319    104.030432  \n",
       "..        ...        ...           ...  \n",
       "202  6.114893  10.136250      8.707614  \n",
       "203  6.140163   8.150442      8.682449  \n",
       "204  6.165393   6.142990      8.657073  \n",
       "205  6.190583   4.113957      8.631487  \n",
       "206  6.215732   2.063407      8.605696  \n",
       "\n",
       "[207 rows x 12 columns]"
      ]
     },
     "execution_count": 24,
     "metadata": {},
     "output_type": "execute_result"
    }
   ],
   "source": [
    "calcul_reel"
   ]
  },
  {
   "cell_type": "code",
   "execution_count": 20,
   "metadata": {},
   "outputs": [],
   "source": [
    "calcul_reel = tableau_complet[tableau_complet[\"y(t)\"]>=0]"
   ]
  },
  {
   "cell_type": "markdown",
   "metadata": {},
   "source": [
    "### Trajectoire"
   ]
  },
  {
   "cell_type": "markdown",
   "metadata": {},
   "source": [
    "#### Trajectoire avec moments forts"
   ]
  },
  {
   "cell_type": "code",
   "execution_count": 23,
   "metadata": {},
   "outputs": [],
   "source": [
    "#plt.figure()\n",
    "plt.figure(figsize=(15,6))\n",
    "plt.plot(calcul_reel[\"x(t)\"],calcul_reel[\"y(t)\"], label=\"Trajectoire de tir\")\n",
    "plt.scatter(calcul_reel[\"x(t)\"].loc[calcul_reel[\"y(t)\"].argmax()],calcul_reel[\"y(t)\"].loc[calcul_reel[\"y(t)\"].argmax()], label='Apogée', marker=\"x\", s=90, color=(0.25,0.25,0.5))\n",
    "plt.scatter(calcul_reel[\"x(t)\"].loc[calcul_reel[\"Vitesse de la fusée\"].argmax()],calcul_reel[\"y(t)\"].loc[calcul_reel[\"Vitesse de la fusée\"].argmax()], label='Vitesse max', marker=\"+\", s=90, color=(0.1,0.5,0.1))\n",
    "plt.scatter(calcul_reel[\"x(t)\"].loc[calcul_reel[\"Poussée\"].argmax()],calcul_reel[\"y(t)\"].loc[calcul_reel[\"Poussée\"].argmax()], label='Poussée max', marker=\"x\", s=90, color=(0.9,0.4,0.5))\n",
    "plt.scatter(calcul_reel[\"x(t)\"].loc[calcul_reel[\"Accélération\"].argmax()],calcul_reel[\"y(t)\"].loc[calcul_reel[\"Accélération\"].argmax()], label='Accélération max', marker=\"x\", s=90, color=(0.3,0.4,0.5))\n",
    "\n",
    "plt.scatter(calcul_reel[\"x(t)\"].loc[calcul_reel[\"Résistance de l'air\"].argmax()],calcul_reel[\"y(t)\"].loc[calcul_reel[\"Résistance de l'air\"].argmax()], label=\"Résistance de l'air max\", marker=\"2\", s=90, color=(0.1,0.1,0.1))\n",
    "plt.legend()\n",
    "font = {'family': 'sans-serif',\n",
    "        'color':  'black',\n",
    "        'weight': 'bold',\n",
    "        'size': 16,\n",
    "        }\n",
    "plt.title(\"Trajectoire de vol avec les moments forts\",fontdict=font)\n",
    "plt.xlabel(\"Distance (m)\",fontsize=14)\n",
    "plt.ylabel(\"Hauteur (m)\", fontsize=14)\n",
    "plt.savefig(\"./img/fig1.png\",bbox_inches='tight')\n",
    "#plt.show()"
   ]
  },
  {
   "cell_type": "markdown",
   "metadata": {},
   "source": [
    "#### Trajectoire décomposée"
   ]
  },
  {
   "cell_type": "code",
   "execution_count": null,
   "metadata": {},
   "outputs": [],
   "source": [
    "plt.figure(figsize=(15,6))\n",
    "plt.plot(calcul_reel[\"x(t)\"].loc[:29],calcul_reel[\"y(t)\"].loc[:29], label=\"Poussée de l'eau\", marker=\"+\", alpha=0.7)\n",
    "plt.plot(calcul_reel[\"x(t)\"].loc[30:49],calcul_reel[\"y(t)\"].loc[30:49], label=\"Poussée de l'air\", marker=\"x\", alpha=0.7)\n",
    "plt.plot(calcul_reel[\"x(t)\"].loc[50:],calcul_reel[\"y(t)\"].loc[50:], label=\"Poussée résiduelle\", marker=\"o\", alpha=0.7)\n",
    "plt.legend()\n",
    "plt.title(\"Trajectoire de vol décomposée\", fontdict=font)\n",
    "plt.xlabel(\"Distance (m)\",fontsize=14)\n",
    "plt.ylabel(\"Hauteur (m)\", fontsize=14)\n",
    "plt.savefig(\"./img/fig2.png\", bbox_inches='tight')\n",
    "plt.show()"
   ]
  },
  {
   "cell_type": "markdown",
   "metadata": {},
   "source": [
    "### Vitesse de la fusée"
   ]
  },
  {
   "cell_type": "markdown",
   "metadata": {},
   "source": [
    "#### En fonction de x"
   ]
  },
  {
   "cell_type": "code",
   "execution_count": null,
   "metadata": {},
   "outputs": [],
   "source": [
    "plt.figure(figsize=(17,6))\n",
    "plt.plot(calcul_reel[\"x(t)\"],calcul_reel[\"Vitesse de la fusée\"], label=\"Evolution de la vitesse de vol\")\n",
    "plt.scatter(calcul_reel[\"x(t)\"].loc[119],calcul_reel[\"Vitesse de la fusée\"].loc[119], marker=\"+\", label=\"Apogée\", c=\"r\", s=150)\n",
    "x_cast = \"{:.2f}\".format(calcul_reel[\"x(t)\"].loc[calcul_reel[\"y(t)\"].argmax()])\n",
    "y_cast = \"{:.2f}\".format(calcul_reel[\"y(t)\"].loc[calcul_reel[\"y(t)\"].argmax()])\n",
    "plt.text(calcul_reel[\"x(t)\"].loc[119]+0.5,calcul_reel[\"Vitesse de la fusée\"].loc[119], \"x = {}\\ny = {}\".format(x_cast,y_cast))\n",
    "plt.legend()\n",
    "plt.title(\"Vitesse de la fusée en fonction de x\", fontdict=font)\n",
    "plt.xlabel(\"Distance (m)\",fontsize=14)\n",
    "plt.ylabel(\"Vitesse (m/s)\", fontsize=14)\n",
    "\n",
    "plt.savefig(\"./img/fig3.png\", bbox_inches='tight')\n",
    "plt.show()"
   ]
  },
  {
   "cell_type": "markdown",
   "metadata": {},
   "source": [
    "#### En fonction du temps"
   ]
  },
  {
   "cell_type": "code",
   "execution_count": null,
   "metadata": {},
   "outputs": [],
   "source": [
    "plt.figure(figsize=(17,6))\n",
    "plt.plot(calcul_reel[\"Temps\"],calcul_reel[\"Vitesse de la fusée\"], label=\"Evolution de la vitesse de vol\")\n",
    "plt.scatter(calcul_reel[\"Temps\"].loc[119],calcul_reel[\"Vitesse de la fusée\"].loc[119], marker=\"+\", label=\"Apogée\", c=\"r\", s=150)\n",
    "x_cast = \"{:.2f}\".format(calcul_reel[\"x(t)\"].loc[calcul_reel[\"y(t)\"].argmax()])\n",
    "y_cast = \"{:.2f}\".format(calcul_reel[\"y(t)\"].loc[calcul_reel[\"y(t)\"].argmax()])\n",
    "plt.text(calcul_reel[\"Temps\"].loc[119]+0.5,calcul_reel[\"Vitesse de la fusée\"].loc[119], \"x = {}\\ny = {}\".format(x_cast,y_cast))\n",
    "plt.legend()\n",
    "plt.title(\"Vitesse de la fusée en fonction du temps\", fontdict=font)\n",
    "plt.xlabel(\"Temps (s)\",fontsize=14)\n",
    "plt.ylabel(\"Vitesse (m/s)\", fontsize=14)\n",
    "plt.savefig(\"./img/fig4.png\", bbox_inches='tight')\n",
    "plt.show()"
   ]
  },
  {
   "cell_type": "markdown",
   "metadata": {},
   "source": [
    "### Pousée"
   ]
  },
  {
   "cell_type": "markdown",
   "metadata": {},
   "source": [
    "#### Sans décomposition"
   ]
  },
  {
   "cell_type": "code",
   "execution_count": null,
   "metadata": {},
   "outputs": [],
   "source": [
    "plt.figure(figsize=(16,6))\n",
    "plt.plot(calcul_reel[\"Temps\"],calcul_reel[\"Poussée\"], marker = 'x', label=\"Poussée\")\n",
    "plt.title(\"Evolution de la poussée en fonction du temps\", fontdict=font)\n",
    "plt.xlabel(\"Temps (s)\",fontsize=14)\n",
    "plt.ylabel(\"Poussée (N)\", fontsize=14)\n",
    "plt.legend(fontsize=14)\n",
    "plt.xlim(0,1.3)\n",
    "plt.savefig(\"./img/fig5.png\",bbox_inches='tight')\n",
    "plt.show()"
   ]
  },
  {
   "cell_type": "markdown",
   "metadata": {},
   "source": [
    "#### Avec décomposition"
   ]
  },
  {
   "cell_type": "code",
   "execution_count": null,
   "metadata": {},
   "outputs": [],
   "source": [
    "plt.figure(figsize=(16,6))\n",
    "plt.plot(calcul_reel[\"Temps\"].iloc[:30],calcul_reel[\"Poussée\"].iloc[:30], marker = 'x', label=\"Poussée de l'eau\")\n",
    "plt.plot(calcul_reel[\"Temps\"].iloc[30:],calcul_reel[\"Poussée\"].iloc[30:], marker = 'x', label=\"Poussée de l'air\")\n",
    "plt.title(\"Evolution de la poussée en fonction du temps décomposée\", fontdict=font)\n",
    "plt.xlabel(\"Temps (s)\",fontsize=14)\n",
    "plt.ylabel(\"Poussée (N)\", fontsize=14)\n",
    "plt.legend(fontsize=14)\n",
    "plt.xlim(0,1.3)\n",
    "plt.savefig(\"./img/fig6.png\",bbox_inches='tight')\n",
    "plt.show()"
   ]
  },
  {
   "cell_type": "markdown",
   "metadata": {},
   "source": [
    "### Vitesses d'éjection"
   ]
  },
  {
   "cell_type": "markdown",
   "metadata": {},
   "source": [
    "#### Eau"
   ]
  },
  {
   "cell_type": "code",
   "execution_count": null,
   "metadata": {},
   "outputs": [],
   "source": [
    "plt.figure(figsize=(17,6))\n",
    "plt.plot(temps[:30], vitesse[0:30],marker='x')\n",
    "plt.title(\"Evolution de la vitesse d'éjection de l'eau\", fontdict=font)\n",
    "plt.xlabel(\"Temps (s)\", fontsize=14)\n",
    "plt.ylabel(\"Vitesse d'éjection (m/s)\", fontsize=14)\n",
    "plt.savefig(\"./img/fig7.png\", bbox_inches='tight')\n",
    "plt.show()"
   ]
  },
  {
   "cell_type": "markdown",
   "metadata": {},
   "source": [
    "#### Air"
   ]
  },
  {
   "cell_type": "code",
   "execution_count": null,
   "metadata": {},
   "outputs": [],
   "source": [
    "plt.figure(figsize=(17,6))\n",
    "plt.plot(temps[30:], vitesse[30:],marker='x')\n",
    "plt.xlim(0.25,1.5)\n",
    "plt.title(\"Evolution de la vitesse d'éjection de l'air\", fontdict=font)\n",
    "plt.xlabel(\"Temps (s)\", fontsize=14)\n",
    "plt.ylabel(\"Vitesse d'éjection (m/s)\", fontsize=14)\n",
    "plt.savefig(\"./img/fig8.png\", bbox_inches='tight')\n",
    "plt.show()"
   ]
  },
  {
   "cell_type": "markdown",
   "metadata": {},
   "source": [
    "### Tableau des moments forts "
   ]
  },
  {
   "cell_type": "code",
   "execution_count": null,
   "metadata": {},
   "outputs": [],
   "source": [
    "data =  [\n",
    "            [         'Valeur'],\n",
    "            [ 'Vitesse maximale (m/s)', calcul_reel[\"Vitesse de la fusée\"].max()],\n",
    "            [ 'Vitesse maximale (km/h)', calcul_reel[\"Vitesse de la fusée\"].max()*3.6],\n",
    "            ['Poussée maximale (N)', calcul_reel[\"Poussée\"].max()],\n",
    "            ['Accélération maximale (m/s²)', calcul_reel[\"Accélération\"].max()],\n",
    "            [\"Résistance de l'air maximale (N)\", calcul_reel[\"Résistance de l'air\"].max()],\n",
    "            ['Hauteur maximale (m)', calcul_reel[\"y(t)\"].max()],\n",
    "            ['Etendue maximale (m)', calcul_reel[\"x(t)\"].max()],\n",
    "            [\"Durée de l'éjection de l'eau (s)\", calcul_reel[\"Temps\"].loc[29]],\n",
    "            [\"Durée de l'éjection de l'air (s)\", calcul_reel[\"Temps\"].loc[49]-calcul_reel[\"Temps\"].loc[29]],\n",
    "            [\"Durée de vol total (s)\", calcul_reel[\"Temps\"].loc[206]]\n",
    "        ]\n",
    "# Pop the headers from the data array\n",
    "column_headers = data.pop(0)\n",
    "row_headers = [x.pop(0) for x in data]\n",
    "\n",
    "cell_text = []\n",
    "for row in data:\n",
    "    cell_text.append([f'{x:3.4f}' for x in row])\n",
    "\n",
    "rcolors = plt.cm.BuPu(np.full(len(row_headers), 0.1))\n",
    "ccolors = plt.cm.BuPu(np.full(len(column_headers), 0.1))\n",
    "\n",
    "plt.figure()\n",
    "the_table = plt.table(cellText=cell_text,\n",
    "                      rowLabels=row_headers,\n",
    "                      rowColours=rcolors,\n",
    "                      cellLoc='center',\n",
    "                      rowLoc='right',\n",
    "                      colLoc='center',\n",
    "                      colColours=ccolors,\n",
    "                      colLabels=column_headers,\n",
    "                      loc='center')\n",
    "the_table.scale(1, 1.5)\n",
    "plt.box(on=None)\n",
    "\n",
    "ax = plt.gca()\n",
    "ax.get_xaxis().set_visible(False)\n",
    "ax.get_yaxis().set_visible(False)\n",
    "\n",
    "fig = plt.gcf()\n",
    "plt.savefig('table_highlights.png',\n",
    "            bbox_inches='tight',\n",
    "            dpi=150\n",
    "            )"
   ]
  },
  {
   "cell_type": "markdown",
   "metadata": {},
   "source": [
    "## Génération du rapport PDF"
   ]
  },
  {
   "cell_type": "markdown",
   "metadata": {},
   "source": [
    "### Création des styles de paragraphes"
   ]
  },
  {
   "cell_type": "code",
   "execution_count": null,
   "metadata": {},
   "outputs": [],
   "source": [
    "def create_style(styleName, fontName='Helvetica', fontSize=12, parent='Normal', alignment='right', spaceAfter=10) :\n",
    "\n",
    "    alignement_dict = {\"left\" : 0, \"center\" : 1, \"right\" : 2}\n",
    "    style = getSampleStyleSheet()\n",
    "    return ParagraphStyle(styleName,\n",
    "                          fontName=fontName,\n",
    "                          fontSize=fontSize,\n",
    "                          parent=style[parent],\n",
    "                          alignment=alignement_dict[alignment],\n",
    "                          spaceAfter=spaceAfter\n",
    "    )"
   ]
  },
  {
   "cell_type": "code",
   "execution_count": null,
   "metadata": {},
   "outputs": [],
   "source": [
    "myTitle = create_style('myheading', fontName='Helvetica-Bold', fontSize=32, parent='Heading1', alignment='center',spaceAfter=24)\n",
    "mySubtitle = create_style('mysubheading', fontName='Helvetica-Bold', fontSize=20, parent='Heading2', alignment='left',spaceAfter=16)\n",
    "mySubSubtitle = create_style('mysubsubheading', fontName='Helvetica-Bold', fontSize=14, parent='Heading3', alignment='left',spaceAfter=12)\n",
    "myPara = create_style('mypara', fontName='Helvetica', fontSize=12, parent='Normal', alignment='left',spaceAfter=10)"
   ]
  },
  {
   "cell_type": "markdown",
   "metadata": {},
   "source": [
    "### Template"
   ]
  },
  {
   "cell_type": "code",
   "execution_count": null,
   "metadata": {},
   "outputs": [],
   "source": [
    "doc = SimpleDocTemplate(\n",
    "        \"report_draft.pdf\",\n",
    "        pagesize=A4,\n",
    "        rightMargin=62, leftMargin=62,\n",
    "        topMargin=72, bottomMargin=34,\n",
    "        title=\"Rapport\",author=\"Mohamed\"\n",
    "        )\n",
    "flowable = list()\n",
    "reportName = Paragraph(\"<u>Rapport de vol</u>\", myTitle)\n",
    "spacer = Spacer(1, 0.25*inch)\n",
    "spacer_item = Spacer(1, 0.125*inch)\n",
    "moment = Paragraph(\"Moments forts\", mySubtitle)\n",
    "monimage = Image(\"table_highlights.png\", width=350, height=200)\n",
    "commentary = Paragraph(\"Commentaires\", mySubtitle)\n",
    "\n",
    "item1 = Paragraph(\"La vitesse maximale est de <b>{:3.4f} m/s</b> et correspond aux coordonnées :<br /><b>&nbsp;&nbsp;&nbsp;&nbsp;x = {:3.4f} m<br />&nbsp;&nbsp;&nbsp;&nbsp;y = {:3.4f} m</b>\".format(calcul_reel[\"Vitesse de la fusée\"].max(),calcul_reel[\"x(t)\"].loc[calcul_reel[\"Vitesse de la fusée\"].argmax()],calcul_reel[\"y(t)\"].loc[calcul_reel[\"Vitesse de la fusée\"].argmax()]), bulletText='-')\n",
    "\n",
    "item2 = Paragraph(\"La poussée maximale est <b>{:3.4f}  N</b> et correspond aux décollage :<br /><b>&nbsp;&nbsp;&nbsp;&nbsp;x = {:3.4f} m<br />&nbsp;&nbsp;&nbsp;&nbsp;y = {:3.4f} m</b>\".format(calcul_reel[\"Poussée\"].max(),calcul_reel[\"x(t)\"].loc[calcul_reel[\"Poussée\"].argmax()],calcul_reel[\"y(t)\"].loc[calcul_reel[\"Poussée\"].argmax()]), bulletText='-')\n",
    "\n",
    "item3 = Paragraph(\"L'accélération maximale est <b>{:3.4f} m/s² </b> et correspond aux coordonnées :<br /><b>&nbsp;&nbsp;&nbsp;&nbsp;x = {:3.4f} m<br />&nbsp;&nbsp;&nbsp;&nbsp;y = {:3.4f} m</b>\".format(calcul_reel[\"Accélération\"].max(),calcul_reel[\"x(t)\"].loc[calcul_reel[\"Accélération\"].argmax()],calcul_reel[\"y(t)\"].loc[calcul_reel[\"Accélération\"].argmax()]), bulletText='-')\n",
    "\n",
    "item4 = Paragraph(\"Les coordonnées dors de la fin de l'éjection de l'eau :<br /><b>&nbsp;&nbsp;&nbsp;&nbsp;x = {:3.4f} m<br />&nbsp;&nbsp;&nbsp;&nbsp;y = {:3.4f} m</b>\".format(calcul_reel[\"x(t)\"].loc[29],calcul_reel[\"y(t)\"].loc[29]), bulletText='-')\n",
    "\n",
    "item5 = Paragraph(\"Les coordonnées dors de la fin de l'éjection de l'air :<br /><b>&nbsp;&nbsp;&nbsp;&nbsp;x = {:3.4f} m<br />&nbsp;&nbsp;&nbsp;&nbsp;y = {:3.4f} m</b>\".format(calcul_reel[\"x(t)\"].loc[49],calcul_reel[\"y(t)\"].loc[49]), bulletText='-')\n",
    "\n",
    "item6 = Paragraph(\"Les coordonnées de l'apogée sont :<br /><b>&nbsp;&nbsp;&nbsp;&nbsp;x = {:3.4f} m<br />&nbsp;&nbsp;&nbsp;&nbsp;y = {:3.4f} m</b>\".format(calcul_reel[\"x(t)\"].loc[calcul_reel[\"y(t)\"].argmax()],calcul_reel[\"y(t)\"].loc[calcul_reel[\"y(t)\"].argmax()]), bulletText='-')\n",
    "\n",
    "mesgraphiques = Paragraph(\"Graphiques\",mySubtitle)\n",
    "graphique1 = Paragraph(\"<u>Trajectoire de vol :</u>\",mySubSubtitle)\n",
    "fig1 = Image(\"./img/fig1.png\", width=500, height=200)\n",
    "fig2 = Image(\"./img/fig2.png\", width=500, height=200)\n",
    "graphique2 = Paragraph(\"<u>Evolution de la vitesse :</u>\",mySubSubtitle)\n",
    "fig3 = Image(\"./img/fig3.png\", width=500, height=200)\n",
    "fig4 = Image(\"./img/fig4.png\", width=500, height=200)\n",
    "graphique3 = Paragraph(\"<u>Evolution de la poussée :</u>\",mySubSubtitle)\n",
    "#fig5 = Image(\"./img/fig5.png\", width=500, height=200)\n",
    "fig6 = Image(\"./img/fig6.png\", width=500, height=200)\n",
    "graphique4 = Paragraph(\"<u>Vitesses d'éjection :</u>\",mySubSubtitle)\n",
    "fig7 = Image(\"./img/fig7.png\", width=500, height=200)\n",
    "fig8 = Image(\"./img/fig8.png\", width=500, height=200)\n",
    "\n",
    "flowable += [reportName, spacer, moment, monimage, commentary, spacer, item1, spacer_item, item2, spacer_item, item3, spacer_item, item4, spacer_item, item5, spacer_item, item6, spacer, mesgraphiques, spacer_item, graphique1,spacer_item, fig1,spacer_item, fig2, spacer_item, graphique2, spacer_item, fig3, fig4, spacer_item, graphique3, spacer_item, fig6, spacer_item, graphique4, spacer_item, fig7, fig8]\n",
    "\n",
    "doc.build(flowable)"
   ]
  }
 ],
 "metadata": {
  "kernelspec": {
   "display_name": "Python 3.8.13 ('base')",
   "language": "python",
   "name": "python3"
  },
  "language_info": {
   "codemirror_mode": {
    "name": "ipython",
    "version": 3
   },
   "file_extension": ".py",
   "mimetype": "text/x-python",
   "name": "python",
   "nbconvert_exporter": "python",
   "pygments_lexer": "ipython3",
   "version": "3.8.13"
  },
  "orig_nbformat": 4,
  "vscode": {
   "interpreter": {
    "hash": "631af202ec7c40e141c49d63cac6c8cb664469fed6e4d5ddc6436b49edc60500"
   }
  }
 },
 "nbformat": 4,
 "nbformat_minor": 2
}
