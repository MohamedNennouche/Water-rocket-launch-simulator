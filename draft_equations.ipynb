{
 "cells": [
  {
   "cell_type": "code",
   "execution_count": 1,
   "metadata": {},
   "outputs": [],
   "source": [
    "import numpy as np\n",
    "import pandas as pd\n",
    "import matplotlib.pyplot as plt"
   ]
  },
  {
   "cell_type": "markdown",
   "metadata": {},
   "source": [
    "## Paramètres de vol "
   ]
  },
  {
   "cell_type": "code",
   "execution_count": 2,
   "metadata": {},
   "outputs": [],
   "source": [
    "Vb = 2\n",
    "Diametre_bouteille = 8.9\n",
    "Diametre_sortie = 0.9\n",
    "Masse_fusee_vide = 0.5 # Mo\n",
    "Cx = 0.1\n",
    "a = 89 # prévoir de le transformer en radians pour utiliser les fonctions trigo\n",
    "lr = 22\n",
    "Po = 10\n",
    "Veo = 0.65"
   ]
  },
  {
   "cell_type": "markdown",
   "metadata": {},
   "source": [
    "## Variables à utiliser et conversions"
   ]
  },
  {
   "cell_type": "code",
   "execution_count": 3,
   "metadata": {},
   "outputs": [],
   "source": [
    "# Conversion des volumes en mètres cubes\n",
    "Vb /= 1000\n",
    "Veo /= 1000\n",
    "# Conversion de la pression en pascal\n",
    "Po *= 100000 # press\n",
    "# Section de la bouteille en m^2\n",
    "Section_bouteille = (Diametre_bouteille**2)*np.pi/40000\n",
    "Section_goulot = (Diametre_sortie**2)*np.pi/40000\n",
    "lr /= 100"
   ]
  },
  {
   "cell_type": "code",
   "execution_count": 17,
   "metadata": {},
   "outputs": [
    {
     "data": {
      "text/plain": [
       "0.002"
      ]
     },
     "execution_count": 17,
     "metadata": {},
     "output_type": "execute_result"
    }
   ],
   "source": [
    "Vb"
   ]
  },
  {
   "cell_type": "markdown",
   "metadata": {},
   "source": [
    "## Constantes environementales"
   ]
  },
  {
   "cell_type": "code",
   "execution_count": 4,
   "metadata": {},
   "outputs": [],
   "source": [
    "g = 9.81 # gravité\n",
    "r = 998 # densité de l'eau en Kg/m^3\n",
    "ra = 1.2 # densité de l'air en Kg/m^3\n",
    "Patm = 101325 # pression atmosphérique"
   ]
  },
  {
   "cell_type": "markdown",
   "metadata": {},
   "source": [
    "## Calcul théorique"
   ]
  },
  {
   "cell_type": "markdown",
   "metadata": {},
   "source": [
    "### Vitesse initiale - en sortie de rampe"
   ]
  },
  {
   "cell_type": "code",
   "execution_count": 5,
   "metadata": {},
   "outputs": [],
   "source": [
    "Ax = (Po*Section_goulot-(Masse_fusee_vide+1000*Veo)*g*np.cos((90-a)*np.pi/180))/(Masse_fusee_vide+1000*Veo) # Accélération suivant x\n",
    "\n",
    "t = np.sqrt(2*lr/Ax)\n",
    "\n",
    "Vx = Ax*t # Vitesse au lancement"
   ]
  },
  {
   "cell_type": "markdown",
   "metadata": {},
   "source": [
    "#### Supplémentaire (éventuellement à supprimer)"
   ]
  },
  {
   "cell_type": "code",
   "execution_count": 7,
   "metadata": {},
   "outputs": [],
   "source": [
    "Ax_g = Ax/g # en G\n",
    "Vx_kmh = Vx * 3.6"
   ]
  },
  {
   "cell_type": "markdown",
   "metadata": {},
   "source": [
    "### Force de poussée - calcul du $\\beta$"
   ]
  },
  {
   "cell_type": "code",
   "execution_count": 8,
   "metadata": {},
   "outputs": [],
   "source": [
    "beta = r*(1 - ((Section_goulot/Section_bouteille)**2))"
   ]
  },
  {
   "cell_type": "markdown",
   "metadata": {},
   "source": [
    "## Colonne 1 : Volume air en mètres cubes"
   ]
  },
  {
   "cell_type": "code",
   "execution_count": 59,
   "metadata": {},
   "outputs": [],
   "source": [
    "volumes_air = [Vb - Veo]\n",
    "volumes_air_final = (Po + Patm)*(Vb-Veo)/Patm\n",
    "for i in range(28) :\n",
    "    volumes_air.append(volumes_air[i] + (Vb-volumes_air[0])/29)"
   ]
  },
  {
   "cell_type": "markdown",
   "metadata": {},
   "source": [
    "### Frontière entre les deux phases et donc ajout de deux lignes avec la valeur Vb"
   ]
  },
  {
   "cell_type": "code",
   "execution_count": 60,
   "metadata": {},
   "outputs": [],
   "source": [
    "volumes_air.append(Vb)\n",
    "volumes_air.append(Vb)"
   ]
  },
  {
   "cell_type": "code",
   "execution_count": 61,
   "metadata": {},
   "outputs": [],
   "source": [
    "for i in range(30,48) :\n",
    "    volumes_air.append(volumes_air[i] + (volumes_air_final-volumes_air[30])/19)"
   ]
  },
  {
   "cell_type": "code",
   "execution_count": 62,
   "metadata": {},
   "outputs": [],
   "source": [
    "volumes_air.append(volumes_air_final)"
   ]
  },
  {
   "cell_type": "markdown",
   "metadata": {},
   "source": [
    "## Colonne 2 : Pression air en pascal"
   ]
  },
  {
   "cell_type": "code",
   "execution_count": 64,
   "metadata": {},
   "outputs": [],
   "source": [
    "pression_air = list()\n",
    "for i in range(len(volumes_air)) : \n",
    "    pression_air.append(((Po + Patm)*(Vb-Veo)/volumes_air[i])-Patm)"
   ]
  },
  {
   "cell_type": "markdown",
   "metadata": {},
   "source": [
    "## Colonne 4 : Vitesse en m/s"
   ]
  },
  {
   "cell_type": "markdown",
   "metadata": {},
   "source": [
    "### Phase 1"
   ]
  },
  {
   "cell_type": "code",
   "execution_count": 65,
   "metadata": {},
   "outputs": [],
   "source": [
    "vitesse = list()\n",
    "for i in range(30) :\n",
    "    vitesse.append(np.sqrt(2*pression_air[i]/beta))"
   ]
  },
  {
   "cell_type": "markdown",
   "metadata": {},
   "source": [
    "### Phase 2 : Formule à confirmer"
   ]
  },
  {
   "cell_type": "code",
   "execution_count": 66,
   "metadata": {},
   "outputs": [],
   "source": [
    "for i in range(20) :\n",
    "    vitesse.append(np.sqrt(2*pression_air[i+30]/ra))"
   ]
  },
  {
   "cell_type": "markdown",
   "metadata": {},
   "source": [
    "## Colonne 3 : Temps en secondes"
   ]
  },
  {
   "cell_type": "markdown",
   "metadata": {},
   "source": [
    "### Phase 1"
   ]
  },
  {
   "cell_type": "code",
   "execution_count": 67,
   "metadata": {},
   "outputs": [],
   "source": [
    "temps = list()\n",
    "for i in range(30) : \n",
    "    temps.append(((2/3)*volumes_air[i]**1.5 - (2/3)*(Vb-Veo)**1.5)/(Section_goulot*np.sqrt(2*Po*(Vb-Veo)/beta)))"
   ]
  },
  {
   "cell_type": "markdown",
   "metadata": {},
   "source": [
    "### Phase intermédiaire"
   ]
  },
  {
   "cell_type": "code",
   "execution_count": 68,
   "metadata": {},
   "outputs": [],
   "source": [
    "temps.append((((2/3)*volumes_air[30]**1.5 - (2/3)*(Vb)**1.5)/(Section_goulot*np.sqrt(2*Po*(Vb-Veo)/beta)))+temps[29])"
   ]
  },
  {
   "cell_type": "markdown",
   "metadata": {},
   "source": [
    "### Phase 2"
   ]
  },
  {
   "cell_type": "code",
   "execution_count": 69,
   "metadata": {},
   "outputs": [],
   "source": [
    "for i in range(19) : \n",
    "    temps.append(temps[30+i]+((volumes_air[31+i]-volumes_air[30+i])/(Section_goulot*((vitesse[31+i]+vitesse[30+i])/2))))"
   ]
  },
  {
   "cell_type": "markdown",
   "metadata": {},
   "source": [
    "### Phase intermédiaire"
   ]
  },
  {
   "cell_type": "code",
   "execution_count": 70,
   "metadata": {},
   "outputs": [],
   "source": [
    "temps.append(temps[49])"
   ]
  },
  {
   "cell_type": "code",
   "execution_count": 71,
   "metadata": {},
   "outputs": [],
   "source": [
    "temps.append(temps[50]+0.01)"
   ]
  },
  {
   "cell_type": "markdown",
   "metadata": {},
   "source": [
    "### Phase 3"
   ]
  },
  {
   "cell_type": "code",
   "execution_count": 72,
   "metadata": {},
   "outputs": [],
   "source": [
    "for i in range(547) :\n",
    "    temps.append(temps[i + 51]+ 0.05)"
   ]
  },
  {
   "cell_type": "markdown",
   "metadata": {},
   "source": [
    "## Colonne 5 : Poussée en newton"
   ]
  },
  {
   "cell_type": "markdown",
   "metadata": {},
   "source": [
    "### Phase 1"
   ]
  },
  {
   "cell_type": "code",
   "execution_count": 73,
   "metadata": {},
   "outputs": [],
   "source": [
    "poussee = list()\n",
    "for i in range(30) : \n",
    "    poussee.append(r*Section_goulot*vitesse[i]**2) "
   ]
  },
  {
   "cell_type": "markdown",
   "metadata": {},
   "source": [
    "### Phase 2"
   ]
  },
  {
   "cell_type": "code",
   "execution_count": 74,
   "metadata": {},
   "outputs": [],
   "source": [
    "for i in range(20) :\n",
    "    poussee.append(ra*Section_goulot*vitesse[30+i]**2)"
   ]
  },
  {
   "cell_type": "markdown",
   "metadata": {},
   "source": [
    "### Eléments supplémentaires"
   ]
  },
  {
   "cell_type": "code",
   "execution_count": 75,
   "metadata": {},
   "outputs": [],
   "source": [
    "for i in range(549) :\n",
    "    poussee.append(0)"
   ]
  },
  {
   "cell_type": "markdown",
   "metadata": {},
   "source": [
    "## Colonne 7 : Masse de la fusée"
   ]
  },
  {
   "cell_type": "markdown",
   "metadata": {},
   "source": [
    "### Phase 1"
   ]
  },
  {
   "cell_type": "code",
   "execution_count": 35,
   "metadata": {},
   "outputs": [],
   "source": [
    "masse_fusee = list()\n",
    "for i in range(30) :\n",
    "    masse_fusee.append(Masse_fusee_vide+r*(Vb-volumes_air[i]))"
   ]
  },
  {
   "cell_type": "markdown",
   "metadata": {},
   "source": [
    "### Phase 2"
   ]
  },
  {
   "cell_type": "code",
   "execution_count": 37,
   "metadata": {},
   "outputs": [],
   "source": [
    "for i in range(569) :\n",
    "    masse_fusee.append(Masse_fusee_vide)"
   ]
  },
  {
   "cell_type": "markdown",
   "metadata": {},
   "source": [
    "## Mettre toutes les listes à la même taille"
   ]
  },
  {
   "cell_type": "code",
   "execution_count": 76,
   "metadata": {},
   "outputs": [],
   "source": [
    "for i in range(549) :\n",
    "    volumes_air.append(0)\n",
    "    pression_air.append(0)\n",
    "    vitesse.append(0)"
   ]
  },
  {
   "cell_type": "markdown",
   "metadata": {},
   "source": [
    "## Colonne 6 + 8 + 9 : Inclinaison rampe de lancement + Vitesse de la fusée + Résistance de l'air"
   ]
  },
  {
   "cell_type": "markdown",
   "metadata": {},
   "source": [
    "### Premier élément"
   ]
  },
  {
   "cell_type": "code",
   "execution_count": 97,
   "metadata": {},
   "outputs": [],
   "source": [
    "inclinaison_rampe=[a]\n",
    "vitesse_fusee = [Vx]\n",
    "resistance_air = list()"
   ]
  },
  {
   "cell_type": "markdown",
   "metadata": {},
   "source": [
    "### Phase 1"
   ]
  },
  {
   "cell_type": "code",
   "execution_count": 98,
   "metadata": {},
   "outputs": [],
   "source": [
    "for i in range(29) :\n",
    "    inclinaison_rampe.append(inclinaison_rampe[i]-np.arctan(g*np.cos(inclinaison_rampe[i]*np.pi/180)*(temps[i+1]-temps[i])/vitesse_fusee[i])*180/np.pi)\n",
    "\n",
    "    resistance_air.append(0.5*ra*Section_bouteille*Cx*(vitesse_fusee[i]**2)) \n",
    "    \n",
    "    vitesse_fusee.append(vitesse_fusee[i]+((poussee[i] - resistance_air[i])/(Masse_fusee_vide + r*(Vb-volumes_air[i+1])) - g*np.sin(inclinaison_rampe[i+1]*np.pi/180))*(temps[i+1]-temps[i]))"
   ]
  },
  {
   "cell_type": "code",
   "execution_count": 99,
   "metadata": {},
   "outputs": [],
   "source": [
    "resistance_air.append(0.5*ra*Section_bouteille*Cx*(vitesse_fusee[29]**2))"
   ]
  },
  {
   "cell_type": "markdown",
   "metadata": {},
   "source": [
    "### Phase intermédiaire"
   ]
  },
  {
   "cell_type": "code",
   "execution_count": 100,
   "metadata": {},
   "outputs": [],
   "source": [
    "inclinaison_rampe.append(inclinaison_rampe[29]-np.arctan(g*np.cos(inclinaison_rampe[29]*np.pi/180)*(temps[30]-temps[29])/vitesse_fusee[29])*180/np.pi)\n",
    "vitesse_fusee.append(vitesse_fusee[29]+(poussee[30]/Masse_fusee_vide)*(temps[30]-temps[29]))\n",
    "resistance_air.append(0.5*ra*Section_bouteille*Cx*(vitesse_fusee[30]**2))"
   ]
  },
  {
   "cell_type": "markdown",
   "metadata": {},
   "source": [
    "### Phase 2"
   ]
  },
  {
   "cell_type": "code",
   "execution_count": 101,
   "metadata": {},
   "outputs": [],
   "source": [
    "for i in range(19) :\n",
    "    inclinaison_rampe.append(inclinaison_rampe[i+30]-np.arctan(g*np.cos(inclinaison_rampe[i+30]*np.pi/180)*(temps[i+31]-temps[i+30])/vitesse_fusee[i+30])*180/np.pi)\n",
    "\n",
    "    vitesse_fusee.append(np.abs(vitesse_fusee[i+30]+((poussee[i+31]-resistance_air[i+30])/Masse_fusee_vide-g*np.sin(inclinaison_rampe[i+31]*np.pi/180))*(temps[i+31]-temps[i+30])))\n",
    "\n",
    "    resistance_air.append(0.5*ra*Section_bouteille*Cx*(vitesse_fusee[i+31]**2))"
   ]
  },
  {
   "cell_type": "markdown",
   "metadata": {},
   "source": [
    "### Phase 3"
   ]
  },
  {
   "cell_type": "code",
   "execution_count": 102,
   "metadata": {},
   "outputs": [],
   "source": [
    "for i in range(549) :\n",
    "    if vitesse_fusee[-2] < vitesse_fusee[-1] :\n",
    "        inclinaison_rampe.append(-np.abs(inclinaison_rampe[-1]-np.arctan((g*np.cos(inclinaison_rampe[-1]*np.pi/180)*(temps[49+i]-temps[48+i]))/vitesse_fusee[-1])*180/np.pi))\n",
    "    else : \n",
    "        inclinaison_rampe.append(inclinaison_rampe[-1]-np.arctan((g*np.cos(inclinaison_rampe[-1]*np.pi/180)*(temps[49+i]-temps[48+i]))/vitesse_fusee[-1])*180/np.pi)\n",
    "    \n",
    "    vitesse_fusee.append(np.abs(vitesse_fusee[-1]+((poussee[49+i]-resistance_air[48+i])/Masse_fusee_vide -g*np.sin(inclinaison_rampe[-1]*np.pi/180))*(temps[49+i]-temps[48+i])))\n",
    "\n",
    "    resistance_air.append(0.5*ra*Section_bouteille*Cx*(vitesse_fusee[-1]**2))"
   ]
  },
  {
   "cell_type": "markdown",
   "metadata": {},
   "source": [
    "## Colonne 10 + 11 : X(m) et Y(m)"
   ]
  },
  {
   "cell_type": "code",
   "execution_count": 104,
   "metadata": {},
   "outputs": [],
   "source": [
    "x = [0]\n",
    "y = [0]\n",
    "for i in range(1,599) :\n",
    "    x.append(x[i-1]+vitesse_fusee[i]*(temps[i]-temps[i-1])*np.cos(inclinaison_rampe[i]*np.pi/180))\n",
    "    y.append(y[i-1]+vitesse_fusee[i]*(temps[i]-temps[i-1])*np.sin(inclinaison_rampe[i]*np.pi/180))"
   ]
  },
  {
   "cell_type": "markdown",
   "metadata": {},
   "source": [
    "## Colonne 12 : Accélération de la fusée"
   ]
  },
  {
   "cell_type": "code",
   "execution_count": 107,
   "metadata": {},
   "outputs": [],
   "source": [
    "acceleration = [0]\n",
    "for i in range(1,599) :\n",
    "    if i ==30 or i == 50 : \n",
    "        acceleration.append(acceleration[-1]) # mettre un doublon à la frontière\n",
    "    else : \n",
    "        acceleration.append((vitesse_fusee[i]-vitesse_fusee[i-1])/(temps[i]-temps[i-1]))"
   ]
  },
  {
   "cell_type": "markdown",
   "metadata": {},
   "source": [
    "## Création du tableau complet"
   ]
  },
  {
   "cell_type": "code",
   "execution_count": 198,
   "metadata": {},
   "outputs": [],
   "source": [
    "my_data = np.array([volumes_air,pression_air,temps,vitesse,poussee,masse_fusee,inclinaison_rampe,vitesse_fusee,resistance_air,x,y,acceleration]).T"
   ]
  },
  {
   "cell_type": "code",
   "execution_count": 200,
   "metadata": {},
   "outputs": [
    {
     "data": {
      "text/html": [
       "<div>\n",
       "<style scoped>\n",
       "    .dataframe tbody tr th:only-of-type {\n",
       "        vertical-align: middle;\n",
       "    }\n",
       "\n",
       "    .dataframe tbody tr th {\n",
       "        vertical-align: top;\n",
       "    }\n",
       "\n",
       "    .dataframe thead th {\n",
       "        text-align: right;\n",
       "    }\n",
       "</style>\n",
       "<table border=\"1\" class=\"dataframe\">\n",
       "  <thead>\n",
       "    <tr style=\"text-align: right;\">\n",
       "      <th></th>\n",
       "      <th>Volume d'air</th>\n",
       "      <th>Pression d'air</th>\n",
       "      <th>Temps</th>\n",
       "      <th>Vitesse</th>\n",
       "      <th>Poussée</th>\n",
       "      <th>Masse de la fusée</th>\n",
       "      <th>Inclinaison</th>\n",
       "      <th>Vitesse de la fusée</th>\n",
       "      <th>Résistance de l'air</th>\n",
       "      <th>x(t)</th>\n",
       "      <th>y(t)</th>\n",
       "      <th>Accélération</th>\n",
       "    </tr>\n",
       "  </thead>\n",
       "  <tbody>\n",
       "    <tr>\n",
       "      <th>0</th>\n",
       "      <td>0.001350</td>\n",
       "      <td>1000000.000000</td>\n",
       "      <td>0.000000</td>\n",
       "      <td>44.768489</td>\n",
       "      <td>127.247809</td>\n",
       "      <td>1.148700</td>\n",
       "      <td>89.000000</td>\n",
       "      <td>4.474905</td>\n",
       "      <td>0.007475</td>\n",
       "      <td>0.000000</td>\n",
       "      <td>0.000000</td>\n",
       "      <td>0.000000</td>\n",
       "    </tr>\n",
       "    <tr>\n",
       "      <th>1</th>\n",
       "      <td>0.001372</td>\n",
       "      <td>982013.536432</td>\n",
       "      <td>0.007902</td>\n",
       "      <td>44.364049</td>\n",
       "      <td>124.959071</td>\n",
       "      <td>1.126331</td>\n",
       "      <td>88.982677</td>\n",
       "      <td>5.290125</td>\n",
       "      <td>0.010446</td>\n",
       "      <td>0.000742</td>\n",
       "      <td>0.041798</td>\n",
       "      <td>103.160407</td>\n",
       "    </tr>\n",
       "    <tr>\n",
       "      <th>2</th>\n",
       "      <td>0.001395</td>\n",
       "      <td>964605.129790</td>\n",
       "      <td>0.015870</td>\n",
       "      <td>43.969064</td>\n",
       "      <td>122.743889</td>\n",
       "      <td>1.103962</td>\n",
       "      <td>88.967647</td>\n",
       "      <td>6.113728</td>\n",
       "      <td>0.013952</td>\n",
       "      <td>0.001620</td>\n",
       "      <td>0.090500</td>\n",
       "      <td>103.373583</td>\n",
       "    </tr>\n",
       "    <tr>\n",
       "      <th>3</th>\n",
       "      <td>0.001417</td>\n",
       "      <td>947747.354015</td>\n",
       "      <td>0.023901</td>\n",
       "      <td>43.583161</td>\n",
       "      <td>120.598774</td>\n",
       "      <td>1.081593</td>\n",
       "      <td>88.954344</td>\n",
       "      <td>6.946301</td>\n",
       "      <td>0.018011</td>\n",
       "      <td>0.002638</td>\n",
       "      <td>0.146280</td>\n",
       "      <td>103.663083</td>\n",
       "    </tr>\n",
       "    <tr>\n",
       "      <th>4</th>\n",
       "      <td>0.001440</td>\n",
       "      <td>931414.491018</td>\n",
       "      <td>0.031997</td>\n",
       "      <td>43.205987</td>\n",
       "      <td>118.520453</td>\n",
       "      <td>1.059224</td>\n",
       "      <td>88.942390</td>\n",
       "      <td>7.788457</td>\n",
       "      <td>0.022642</td>\n",
       "      <td>0.003802</td>\n",
       "      <td>0.209319</td>\n",
       "      <td>104.030432</td>\n",
       "    </tr>\n",
       "    <tr>\n",
       "      <th>...</th>\n",
       "      <td>...</td>\n",
       "      <td>...</td>\n",
       "      <td>...</td>\n",
       "      <td>...</td>\n",
       "      <td>...</td>\n",
       "      <td>...</td>\n",
       "      <td>...</td>\n",
       "      <td>...</td>\n",
       "      <td>...</td>\n",
       "      <td>...</td>\n",
       "      <td>...</td>\n",
       "      <td>...</td>\n",
       "    </tr>\n",
       "    <tr>\n",
       "      <th>594</th>\n",
       "      <td>0.000000</td>\n",
       "      <td>0.000000</td>\n",
       "      <td>28.270883</td>\n",
       "      <td>0.000000</td>\n",
       "      <td>0.000000</td>\n",
       "      <td>0.500000</td>\n",
       "      <td>-86.798178</td>\n",
       "      <td>112.430410</td>\n",
       "      <td>4.718335</td>\n",
       "      <td>534.107993</td>\n",
       "      <td>-2163.578608</td>\n",
       "      <td>0.364154</td>\n",
       "    </tr>\n",
       "    <tr>\n",
       "      <th>595</th>\n",
       "      <td>0.000000</td>\n",
       "      <td>0.000000</td>\n",
       "      <td>28.320883</td>\n",
       "      <td>0.000000</td>\n",
       "      <td>0.000000</td>\n",
       "      <td>0.500000</td>\n",
       "      <td>-86.812139</td>\n",
       "      <td>112.448470</td>\n",
       "      <td>4.719851</td>\n",
       "      <td>534.420656</td>\n",
       "      <td>-2169.192331</td>\n",
       "      <td>0.361207</td>\n",
       "    </tr>\n",
       "    <tr>\n",
       "      <th>596</th>\n",
       "      <td>0.000000</td>\n",
       "      <td>0.000000</td>\n",
       "      <td>28.370883</td>\n",
       "      <td>0.000000</td>\n",
       "      <td>0.000000</td>\n",
       "      <td>0.500000</td>\n",
       "      <td>-86.826038</td>\n",
       "      <td>112.466384</td>\n",
       "      <td>4.721355</td>\n",
       "      <td>534.732007</td>\n",
       "      <td>-2174.807025</td>\n",
       "      <td>0.358283</td>\n",
       "    </tr>\n",
       "    <tr>\n",
       "      <th>597</th>\n",
       "      <td>0.000000</td>\n",
       "      <td>0.000000</td>\n",
       "      <td>28.420883</td>\n",
       "      <td>0.000000</td>\n",
       "      <td>0.000000</td>\n",
       "      <td>0.500000</td>\n",
       "      <td>-86.839873</td>\n",
       "      <td>112.484153</td>\n",
       "      <td>4.722847</td>\n",
       "      <td>535.042050</td>\n",
       "      <td>-2180.422680</td>\n",
       "      <td>0.355382</td>\n",
       "    </tr>\n",
       "    <tr>\n",
       "      <th>598</th>\n",
       "      <td>0.000000</td>\n",
       "      <td>0.000000</td>\n",
       "      <td>28.470883</td>\n",
       "      <td>0.000000</td>\n",
       "      <td>0.000000</td>\n",
       "      <td>0.500000</td>\n",
       "      <td>-86.853646</td>\n",
       "      <td>112.501779</td>\n",
       "      <td>4.724327</td>\n",
       "      <td>535.350793</td>\n",
       "      <td>-2186.039290</td>\n",
       "      <td>0.352503</td>\n",
       "    </tr>\n",
       "  </tbody>\n",
       "</table>\n",
       "<p>599 rows × 12 columns</p>\n",
       "</div>"
      ],
      "text/plain": [
       "     Volume d'air  Pression d'air      Temps    Vitesse     Poussée  \\\n",
       "0        0.001350  1000000.000000   0.000000  44.768489  127.247809   \n",
       "1        0.001372   982013.536432   0.007902  44.364049  124.959071   \n",
       "2        0.001395   964605.129790   0.015870  43.969064  122.743889   \n",
       "3        0.001417   947747.354015   0.023901  43.583161  120.598774   \n",
       "4        0.001440   931414.491018   0.031997  43.205987  118.520453   \n",
       "..            ...             ...        ...        ...         ...   \n",
       "594      0.000000        0.000000  28.270883   0.000000    0.000000   \n",
       "595      0.000000        0.000000  28.320883   0.000000    0.000000   \n",
       "596      0.000000        0.000000  28.370883   0.000000    0.000000   \n",
       "597      0.000000        0.000000  28.420883   0.000000    0.000000   \n",
       "598      0.000000        0.000000  28.470883   0.000000    0.000000   \n",
       "\n",
       "     Masse de la fusée  Inclinaison  Vitesse de la fusée  Résistance de l'air  \\\n",
       "0             1.148700    89.000000             4.474905             0.007475   \n",
       "1             1.126331    88.982677             5.290125             0.010446   \n",
       "2             1.103962    88.967647             6.113728             0.013952   \n",
       "3             1.081593    88.954344             6.946301             0.018011   \n",
       "4             1.059224    88.942390             7.788457             0.022642   \n",
       "..                 ...          ...                  ...                  ...   \n",
       "594           0.500000   -86.798178           112.430410             4.718335   \n",
       "595           0.500000   -86.812139           112.448470             4.719851   \n",
       "596           0.500000   -86.826038           112.466384             4.721355   \n",
       "597           0.500000   -86.839873           112.484153             4.722847   \n",
       "598           0.500000   -86.853646           112.501779             4.724327   \n",
       "\n",
       "           x(t)         y(t)  Accélération  \n",
       "0      0.000000     0.000000      0.000000  \n",
       "1      0.000742     0.041798    103.160407  \n",
       "2      0.001620     0.090500    103.373583  \n",
       "3      0.002638     0.146280    103.663083  \n",
       "4      0.003802     0.209319    104.030432  \n",
       "..          ...          ...           ...  \n",
       "594  534.107993 -2163.578608      0.364154  \n",
       "595  534.420656 -2169.192331      0.361207  \n",
       "596  534.732007 -2174.807025      0.358283  \n",
       "597  535.042050 -2180.422680      0.355382  \n",
       "598  535.350793 -2186.039290      0.352503  \n",
       "\n",
       "[599 rows x 12 columns]"
      ]
     },
     "execution_count": 200,
     "metadata": {},
     "output_type": "execute_result"
    }
   ],
   "source": [
    "colonnes = [\"Volume d'air\",\"Pression d'air\",\"Temps\",\"Vitesse\",\"Poussée\",\"Masse de la fusée\",\"Inclinaison\",\"Vitesse de la fusée\",\"Résistance de l'air\",\"x(t)\",\"y(t)\",\"Accélération\"]\n",
    "\n",
    "tableau_complet = pd.DataFrame(my_data, columns=colonnes)\n",
    "tableau_complet"
   ]
  },
  {
   "cell_type": "markdown",
   "metadata": {},
   "source": [
    "### A REVOIR !"
   ]
  },
  {
   "cell_type": "code",
   "execution_count": 209,
   "metadata": {},
   "outputs": [
    {
     "data": {
      "text/plain": [
       "[0,\n",
       " 0.0007422348793081732,\n",
       " 0.001619834776770705,\n",
       " 0.0026379424802297855,\n",
       " 0.003801698737082102,\n",
       " 0.00511627823283106,\n",
       " 0.006586918582305862,\n",
       " 0.008218945074524623,\n",
       " 0.010017792868933666,\n",
       " 0.011989027764166006,\n",
       " 0.014138366328071486,\n",
       " 0.01647169598149749,\n",
       " 0.01899509551241942,\n",
       " 0.021714856431492385,\n",
       " 0.024637505548201672,\n",
       " 0.027769829139163208,\n",
       " 0.031118899091665778,\n",
       " 0.03469210143383018,\n",
       " 0.038497167707197265,\n",
       " 0.04254220969899108,\n",
       " 0.046835758131851514,\n",
       " 0.05138680601194534,\n",
       " 0.05620485746702215,\n",
       " 0.061299983071060465,\n",
       " 0.06668288286103281,\n",
       " 0.07236495851671576,\n",
       " 0.07835839651373618,\n",
       " 0.08467626449696623,\n",
       " 0.09133262368894317,\n",
       " 0.09834266089243038,\n",
       " 0.09834266089243038,\n",
       " 0.1067089583899436,\n",
       " 0.11679879719180523,\n",
       " 0.12861584589984412,\n",
       " 0.142196987493378,\n",
       " 0.157605642153904,\n",
       " 0.17493065678041989,\n",
       " 0.1942884300595188,\n",
       " 0.21582781643446758,\n",
       " 0.2397382626897711,\n",
       " 0.26626246506051143,\n",
       " 0.29571606565315844,\n",
       " 0.32851918450919076,\n",
       " 0.36524933721741265,\n",
       " 0.4067362917807284,\n",
       " 0.4542481803356534,\n",
       " 0.509906637741546,\n",
       " 0.5778148580590786,\n",
       " 0.6684461020312519,\n",
       " 0.8880473632159726,\n",
       " 0.8880473632159726,\n",
       " 1.2479229343090874,\n",
       " 3.0468240554735777,\n",
       " 4.843455542052156,\n",
       " 6.63685856929777,\n",
       " 8.420794297494153,\n",
       " 10.202501682258553,\n",
       " 11.981981892673588,\n",
       " 13.75923542461574,\n",
       " 15.534262122396985,\n",
       " 17.30706119227396,\n",
       " 19.077631216787726,\n",
       " 20.845970169890034,\n",
       " 22.612075432784124,\n",
       " 24.375943810405285,\n",
       " 26.137571548464255,\n",
       " 27.89695435097534,\n",
       " 29.654087398190654,\n",
       " 31.408965364862187,\n",
       " 33.16158243875436,\n",
       " 34.91193233933148,\n",
       " 36.6600083365467,\n",
       " 38.40580326966196,\n",
       " 40.149309566031626,\n",
       " 41.890519259786494,\n",
       " 43.62942401035848,\n",
       " 45.36601512079109,\n",
       " 47.10028355578503,\n",
       " 48.83221995943306,\n",
       " 50.561814672603,\n",
       " 52.28905774993251,\n",
       " 54.01393897640403,\n",
       " 55.73644788347282,\n",
       " 57.45657376472573,\n",
       " 59.17430569105236,\n",
       " 60.889632525314774,\n",
       " 62.60254293650549,\n",
       " 64.31302541338741,\n",
       " 66.02106827761243,\n",
       " 67.726659696319,\n",
       " 69.42978769421131,\n",
       " 71.13044016512558,\n",
       " 72.82860488309117,\n",
       " 74.52426951289631,\n",
       " 76.2174216201696,\n",
       " 77.90804868099056,\n",
       " 79.59613809104312,\n",
       " 81.28167717432729,\n",
       " 82.96465319144508,\n",
       " 84.64505334747709,\n",
       " 86.32286479946677,\n",
       " 87.99807466352978,\n",
       " 89.67067002160549,\n",
       " 91.34063792786822,\n",
       " 93.00796541481519,\n",
       " 94.67263949904824,\n",
       " 96.33464718676585,\n",
       " 97.99397547898158,\n",
       " 99.65061137648479,\n",
       " 101.30454188455872,\n",
       " 102.95575401747038,\n",
       " 104.60423480274676,\n",
       " 106.24997128525006,\n",
       " 107.8929505310653,\n",
       " 109.53315963121209,\n",
       " 111.17058570519212,\n",
       " 112.80521590438322,\n",
       " 114.43703741529002,\n",
       " 116.06603746266114,\n",
       " 117.69220331248137,\n",
       " 119.31552227484757,\n",
       " 120.935981706736,\n",
       " 122.55356901466827,\n",
       " 124.16827165728263,\n",
       " 125.78007714781687,\n",
       " 127.38897305650853,\n",
       " 128.99494701291783,\n",
       " 130.59798670817784,\n",
       " 132.19807989717688,\n",
       " 133.79521440067668,\n",
       " 135.38937810737042,\n",
       " 136.9805589758838,\n",
       " 138.56874503672248,\n",
       " 140.15392439416823,\n",
       " 141.73608522812697,\n",
       " 143.31521579593036,\n",
       " 144.89130443409337,\n",
       " 146.46433956002957,\n",
       " 148.03430967372572,\n",
       " 149.60120335937734,\n",
       " 151.1650092869863,\n",
       " 152.7257162139219,\n",
       " 154.2833129864462,\n",
       " 155.83778854120462,\n",
       " 157.38913190668288,\n",
       " 158.93733220463048,\n",
       " 160.48237865145177,\n",
       " 162.02426055956496,\n",
       " 163.56296733872964,\n",
       " 165.09848849734306,\n",
       " 166.63081364370575,\n",
       " 168.1599324872566,\n",
       " 169.6858348397779,\n",
       " 171.20851061657015,\n",
       " 172.72794983759738,\n",
       " 174.2441426286027,\n",
       " 175.7570792221946,\n",
       " 177.2667499589037,\n",
       " 178.77314528821057,\n",
       " 180.27625576954432,\n",
       " 181.7760720732523,\n",
       " 183.27258498154083,\n",
       " 184.7657853893872,\n",
       " 186.25566430542287,\n",
       " 187.74221285278827,\n",
       " 189.22542226995864,\n",
       " 190.70528391154187,\n",
       " 192.18178924904754,\n",
       " 193.65492987162804,\n",
       " 195.12469748679126,\n",
       " 196.59108392108533,\n",
       " 198.05408112075526,\n",
       " 199.51368115237193,\n",
       " 200.96987620343322,\n",
       " 202.4226585829375,\n",
       " 203.87202072192977,\n",
       " 205.3179551740205,\n",
       " 206.76045461587728,\n",
       " 208.19951184768937,\n",
       " 209.6351197936057,\n",
       " 211.067271502146,\n",
       " 212.4959601465857,\n",
       " 213.92117902531427,\n",
       " 215.34292156216787,\n",
       " 216.761181306736,\n",
       " 218.1759519346425,\n",
       " 219.58722724780128,\n",
       " 220.99500117464675,\n",
       " 222.39926777033952,\n",
       " 223.80002121694739,\n",
       " 225.1972558236017,\n",
       " 226.59096602662987,\n",
       " 227.98114638966388,\n",
       " 229.3677916037251,\n",
       " 230.75089648728581,\n",
       " 232.13045598630774,\n",
       " 233.50646517425767,\n",
       " 234.87891925210067,\n",
       " 236.2478135482711,\n",
       " 237.6131435186216,\n",
       " 238.97490474635066,\n",
       " 240.3330929419088,\n",
       " 241.68770394288364,\n",
       " 243.03873371386447,\n",
       " 244.3861783462863,\n",
       " 245.73003405825395,\n",
       " 247.07029719434624,\n",
       " 248.4069642254009,\n",
       " 249.7400317482803,\n",
       " 251.06949648561823,\n",
       " 252.39535528554853,\n",
       " 253.71760512141523,\n",
       " 255.03624309146502,\n",
       " 256.3512664185222,\n",
       " 257.6626724496463,\n",
       " 258.9704586557732,\n",
       " 260.27462263133907,\n",
       " 261.57516209388865,\n",
       " 262.8720748836675,\n",
       " 264.1653589631984,\n",
       " 265.45501241684275,\n",
       " 266.74103345034706,\n",
       " 268.0234203903745,\n",
       " 269.3021716840225,\n",
       " 270.5772858983261,\n",
       " 271.848761719748,\n",
       " 273.1165979536545,\n",
       " 274.3807935237794,\n",
       " 275.64134747167435,\n",
       " 276.89825895614706,\n",
       " 278.15152725268746,\n",
       " 279.401151752882,\n",
       " 280.6471319638163,\n",
       " 281.88946750746686,\n",
       " 283.12815812008154,\n",
       " 284.3632036515496,\n",
       " 285.59460406476154,\n",
       " 286.82235943495857,\n",
       " 288.0464699490726,\n",
       " 289.2669359050569,\n",
       " 290.4837577112071,\n",
       " 291.6969358854737,\n",
       " 292.90647105476603,\n",
       " 294.1123639542476,\n",
       " 295.3146154266234,\n",
       " 296.51322642141974,\n",
       " 297.7081979942563,\n",
       " 298.8995313061108,\n",
       " 300.0872276225771,\n",
       " 301.2712883131161,\n",
       " 302.4517148503006,\n",
       " 303.6285088090536,\n",
       " 304.80167186588056,\n",
       " 305.97120579809655,\n",
       " 307.1371124830471,\n",
       " 308.2993938973242,\n",
       " 309.45805211597764,\n",
       " 310.6130893117207,\n",
       " 311.7645077541323,\n",
       " 312.91230980885393,\n",
       " 314.0564979367833,\n",
       " 315.1970746932634,\n",
       " 316.3340427272686,\n",
       " 317.4674047805866,\n",
       " 318.5971636869979,\n",
       " 319.7233223714517,\n",
       " 320.84588384923916,\n",
       " 321.96485122516435,\n",
       " 323.0802276927123,\n",
       " 324.19201653321517,\n",
       " 325.30022111501637,\n",
       " 326.40484489263287,\n",
       " 327.50589140591575,\n",
       " 328.60336427920936,\n",
       " 329.69726722050945,\n",
       " 330.7876040206198,\n",
       " 331.87437855230826,\n",
       " 332.9575947694618,\n",
       " 334.03725670624135,\n",
       " 335.11336847623573,\n",
       " 336.18593427161574,\n",
       " 337.25495836228805,\n",
       " 338.3204450950491,\n",
       " 339.3823988927392,\n",
       " 340.44082425339724,\n",
       " 341.4957257494155,\n",
       " 342.5471080266955,\n",
       " 343.5949758038047,\n",
       " 344.63933387113354,\n",
       " 345.6801870900545,\n",
       " 346.7175403920816,\n",
       " 347.75139877803144,\n",
       " 348.781767317186,\n",
       " 349.8086511464568,\n",
       " 350.8320554695506,\n",
       " 351.85198555613755,\n",
       " 352.8684467410205,\n",
       " 353.8814444233069,\n",
       " 354.89098406558304,\n",
       " 355.89707119308986,\n",
       " 356.8997113929019,\n",
       " 357.8989103131083,\n",
       " 358.8946736619966,\n",
       " 359.8870072072392,\n",
       " 360.8759167750826,\n",
       " 361.8614082495394,\n",
       " 362.84348757158364,\n",
       " 363.8221607383487,\n",
       " 364.7974338023289,\n",
       " 365.76931287058375,\n",
       " 366.73780410394613,\n",
       " 367.70291371623335,\n",
       " 368.6646479734621,\n",
       " 369.6230131930664,\n",
       " 370.57801574312003,\n",
       " 371.5296620415617,\n",
       " 372.47795855542466,\n",
       " 373.42291180006976,\n",
       " 374.36452833842264,\n",
       " 375.30281478021476,\n",
       " 376.23777778122843,\n",
       " 377.1694240425459,\n",
       " 378.0977603098027,\n",
       " 379.02279337244494,\n",
       " 379.94453006299096,\n",
       " 380.8629772562975,\n",
       " 381.77814186882966,\n",
       " 382.6900308579357,\n",
       " 383.59865122112615,\n",
       " 384.50400999535714,\n",
       " 385.4061142563186,\n",
       " 386.30497111772667,\n",
       " 387.20058773062107,\n",
       " 388.0929712826666,\n",
       " 388.98212899745977,\n",
       " 389.8680681338397,\n",
       " 390.7507959852041,\n",
       " 391.63031987882965,\n",
       " 392.50664717519743,\n",
       " 393.37978526732303,\n",
       " 394.2497415800914,\n",
       " 395.11652356959667,\n",
       " 395.9801387224869,\n",
       " 396.8405945553135,\n",
       " 397.6978986138856,\n",
       " 398.5520584726296,\n",
       " 399.4030817339533,\n",
       " 400.2509760276152,\n",
       " 401.0957490100988,\n",
       " 401.93740836399184,\n",
       " 402.77596179737037,\n",
       " 403.61141704318794,\n",
       " 404.44378185867,\n",
       " 405.27306402471294,\n",
       " 406.0992713452885,\n",
       " 406.92241164685305,\n",
       " 407.74249277776175,\n",
       " 408.5595226076882,\n",
       " 409.37350902704867,\n",
       " 410.1844599464316,\n",
       " 410.9923832960322,\n",
       " 411.79728702509175,\n",
       " 412.59917910134254,\n",
       " 413.3980675104572,\n",
       " 414.1939602555036,\n",
       " 414.98686535640434,\n",
       " 415.7767908494016,\n",
       " 416.56374478652697,\n",
       " 417.34773523507596,\n",
       " 418.12877027708805,\n",
       " 418.9068580088312,\n",
       " 419.6820065402918,\n",
       " 420.4542239946693,\n",
       " 421.2235185078759,\n",
       " 421.9898982280413,\n",
       " 422.75337131502215,\n",
       " 423.51394593991677,\n",
       " 424.27163028458443,\n",
       " 425.02643254116975,\n",
       " 425.778360911632,\n",
       " 426.52742360727905,\n",
       " 427.2736288483066,\n",
       " 428.0169848633418,\n",
       " 428.7574998889919,\n",
       " 429.4951821693977,\n",
       " 430.2300399557919,\n",
       " 430.96208150606185,\n",
       " 431.6913150843175,\n",
       " 432.4177489604639,\n",
       " 433.1413914097782,\n",
       " 433.86225071249163,\n",
       " 434.58033515337615,\n",
       " 435.2956530213355,\n",
       " 436.008212609001,\n",
       " 436.7180222123322,\n",
       " 437.4250901302215,\n",
       " 438.1294246641042,\n",
       " 438.8310341175721,\n",
       " 439.5299267959924,\n",
       " 440.22611100613085,\n",
       " 440.9195950557791,\n",
       " 441.61038725338676,\n",
       " 442.2984959076979,\n",
       " 442.9839293273917,\n",
       " 443.6666958207278,\n",
       " 444.3468036951956,\n",
       " 445.02426125716823,\n",
       " 445.69907681156053,\n",
       " 446.37125866149137,\n",
       " 447.04081510795044,\n",
       " 447.70775444946884,\n",
       " 448.3720849817941,\n",
       " 449.0338149975694,\n",
       " 449.6929527860165,\n",
       " 450.3495066326236,\n",
       " 451.0034848188363,\n",
       " 451.65489562175316,\n",
       " 452.3037473138253,\n",
       " 452.95004816255965,\n",
       " 453.5938064302266,\n",
       " 454.23503037357113,\n",
       " 454.8737282435281,\n",
       " 455.50990828494133,\n",
       " 456.1435787362867,\n",
       " 456.77474782939873,\n",
       " 457.4034237892012,\n",
       " 458.0296148334416,\n",
       " 458.6533291724288,\n",
       " 459.2745750087753,\n",
       " 459.8933605371422,\n",
       " 460.5096939439885,\n",
       " 461.1235834073237,\n",
       " 461.735037096464,\n",
       " 462.3440631717922,\n",
       " 462.950669784521,\n",
       " 463.5548650764598,\n",
       " 464.1566571797851,\n",
       " 464.75605421681405,\n",
       " 465.35306429978186,\n",
       " 465.9476955306221,\n",
       " 466.5399560007508,\n",
       " 467.1298537908535,\n",
       " 467.71739697067574,\n",
       " 468.3025935988171,\n",
       " 468.88545172252793,\n",
       " 469.4659793775097,\n",
       " 470.04418458771835,\n",
       " 470.620075365171,\n",
       " 471.19365970975537,\n",
       " 471.76494560904285,\n",
       " 472.33394103810423,\n",
       " 472.90065395932845,\n",
       " 473.46509232224474,\n",
       " 474.02726406334733,\n",
       " 474.5871771059234,\n",
       " 475.14483935988375,\n",
       " 475.7002587215966,\n",
       " 476.2534430737239,\n",
       " 476.8044002850609,\n",
       " 477.35313821037846,\n",
       " 477.8996646902676,\n",
       " 478.44398755098786,\n",
       " 478.9861146043171,\n",
       " 479.5260536474053,\n",
       " 480.0638124626302,\n",
       " 480.59939881745566,\n",
       " 481.1328204642931,\n",
       " 481.6640851403651,\n",
       " 482.1932005675718,\n",
       " 482.72017445235974,\n",
       " 483.2450144855933,\n",
       " 483.7677283424285,\n",
       " 484.28832368218957,\n",
       " 484.8068081482476,\n",
       " 485.32318936790193,\n",
       " 485.8374749522635,\n",
       " 486.3496724961412,\n",
       " 486.85978957792986,\n",
       " 487.3678337595013,\n",
       " 487.873812586097,\n",
       " 488.3777335862234,\n",
       " 488.8796042715494,\n",
       " 489.3794321368059,\n",
       " 489.87722465968795,\n",
       " 490.37298930075855,\n",
       " 490.866733503355,\n",
       " 491.35846469349724,\n",
       " 491.848190279798,\n",
       " 492.33591765337576,\n",
       " 492.8216541877689,\n",
       " 493.3054072388525,\n",
       " 493.78718414475696,\n",
       " 494.2669922257883,\n",
       " 494.7448387843509,\n",
       " 495.22073110487213,\n",
       " 495.6946764537284,\n",
       " 496.16668207917365,\n",
       " 496.6367552112695,\n",
       " 497.10490306181714,\n",
       " 497.5711328242914,\n",
       " 498.0354516737761,\n",
       " 498.4978667669017,\n",
       " 498.9583852417844,\n",
       " 499.417014217967,\n",
       " 499.8737607963617,\n",
       " 500.3286320591945,\n",
       " 500.78163506995094,\n",
       " 501.2327768733242,\n",
       " 501.6820644951641,\n",
       " 502.12950494242835,\n",
       " 502.57510520313474,\n",
       " 503.0188722463157,\n",
       " 503.46081302197376,\n",
       " 503.90093446103884,\n",
       " 504.33924347532695,\n",
       " 504.7757469575006,\n",
       " 505.21045178103043,\n",
       " 505.64336480015857,\n",
       " 506.0744928498631,\n",
       " 506.5038427458242,\n",
       " 506.93142128439194,\n",
       " 507.3572352425547,\n",
       " 507.7812913779097,\n",
       " 508.2035964286348,\n",
       " 508.624157113461,\n",
       " 509.04298013164725,\n",
       " 509.4600721629555,\n",
       " 509.87543986762796,\n",
       " 510.28908988636516,\n",
       " 510.7010288403052,\n",
       " 511.1112633310046,\n",
       " 511.5197999404199,\n",
       " 511.9266452308909,\n",
       " 512.3318057451249,\n",
       " 512.7352880061819,\n",
       " 513.1370985174614,\n",
       " 513.5372437626899,\n",
       " 513.9357302059099,\n",
       " 514.3325642914696,\n",
       " 514.7277524440143,\n",
       " 515.121301068478,\n",
       " 515.513216550077,\n",
       " 515.9035052543038,\n",
       " 516.2921735269226,\n",
       " 516.6792276939652,\n",
       " 517.0646740617285,\n",
       " 517.4485189167729,\n",
       " 517.8307685259209,\n",
       " 518.2114291362582,\n",
       " 518.590506975134,\n",
       " 518.9680082501633,\n",
       " 519.3439391492302,\n",
       " 519.7183058404914,\n",
       " 520.0911144723813,\n",
       " 520.4623711736169,\n",
       " 520.8320820532056,\n",
       " 521.2002532004511,\n",
       " 521.5668906849629,\n",
       " 521.9320005566644,\n",
       " 522.2955888458034,\n",
       " 522.6576615629623,\n",
       " 523.0182246990697,\n",
       " 523.3772842254128,\n",
       " 523.7348460936502,\n",
       " 524.0909162358254,\n",
       " 524.4455005643817,\n",
       " 524.7986049721775,\n",
       " 525.1502353325016,\n",
       " 525.5003974990902,\n",
       " 525.8490973061447,\n",
       " 526.1963405683488,\n",
       " 526.5421330808879,\n",
       " 526.8864806194681,\n",
       " 527.2293889403364,\n",
       " 527.5708637803015,\n",
       " 527.9109108567543,\n",
       " 528.2495358676908,\n",
       " 528.5867444917342,\n",
       " 528.9225423881577,\n",
       " 529.2569351969087,\n",
       " 529.5899285386328,\n",
       " 529.9215280146987,\n",
       " 530.2517392072236,\n",
       " 530.5805676790994,\n",
       " 530.9080189740189,\n",
       " 531.2340986165028,\n",
       " 531.5588121119278,\n",
       " 531.8821649465536,\n",
       " 532.204162587553,\n",
       " 532.5248104830396,\n",
       " 532.844114062098,\n",
       " 533.1620787348138,\n",
       " 533.478709892304,\n",
       " 533.7940129067481,\n",
       " 534.1079931314192,\n",
       " 534.4206559007165,\n",
       " 534.7320065301968,\n",
       " 535.0420503166079,\n",
       " 535.3507925379212]"
      ]
     },
     "execution_count": 209,
     "metadata": {},
     "output_type": "execute_result"
    }
   ],
   "source": [
    "x"
   ]
  }
 ],
 "metadata": {
  "kernelspec": {
   "display_name": "Python 3.8.13 ('base')",
   "language": "python",
   "name": "python3"
  },
  "language_info": {
   "codemirror_mode": {
    "name": "ipython",
    "version": 3
   },
   "file_extension": ".py",
   "mimetype": "text/x-python",
   "name": "python",
   "nbconvert_exporter": "python",
   "pygments_lexer": "ipython3",
   "version": "3.8.13"
  },
  "orig_nbformat": 4,
  "vscode": {
   "interpreter": {
    "hash": "631af202ec7c40e141c49d63cac6c8cb664469fed6e4d5ddc6436b49edc60500"
   }
  }
 },
 "nbformat": 4,
 "nbformat_minor": 2
}
