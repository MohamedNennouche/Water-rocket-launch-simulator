{
 "cells": [
  {
   "cell_type": "code",
   "execution_count": 1,
   "metadata": {},
   "outputs": [],
   "source": [
    "import numpy as np\n",
    "import pandas as pd\n",
    "import matplotlib.pyplot as plt"
   ]
  },
  {
   "cell_type": "markdown",
   "metadata": {},
   "source": [
    "## Paramètres de vol "
   ]
  },
  {
   "cell_type": "code",
   "execution_count": 2,
   "metadata": {},
   "outputs": [],
   "source": [
    "Vb = 2\n",
    "Diametre_bouteille = 8.9\n",
    "Diametre_sortie = 0.9\n",
    "Masse_fusee_vide = 0.5 # Mo\n",
    "Cx = 0.1\n",
    "a = 89 # prévoir de le transformer en radians pour utiliser les fonctions trigo\n",
    "lr = 22\n",
    "Po = 10\n",
    "Veo = 0.65"
   ]
  },
  {
   "cell_type": "markdown",
   "metadata": {},
   "source": [
    "## Variables à utiliser et conversions"
   ]
  },
  {
   "cell_type": "code",
   "execution_count": 3,
   "metadata": {},
   "outputs": [],
   "source": [
    "# Conversion des volumes en mètres cubes\n",
    "Vb /= 1000\n",
    "Veo /= 1000\n",
    "# Conversion de la pression en pascal\n",
    "Po *= 100000 # press\n",
    "# Section de la bouteille en m^2\n",
    "Section_bouteille = (Diametre_bouteille**2)*np.pi/40000\n",
    "Section_goulot = (Diametre_sortie**2)*np.pi/40000\n",
    "lr /= 100"
   ]
  },
  {
   "cell_type": "code",
   "execution_count": 17,
   "metadata": {},
   "outputs": [
    {
     "data": {
      "text/plain": [
       "0.002"
      ]
     },
     "execution_count": 17,
     "metadata": {},
     "output_type": "execute_result"
    }
   ],
   "source": [
    "Vb"
   ]
  },
  {
   "cell_type": "markdown",
   "metadata": {},
   "source": [
    "## Constantes environementales"
   ]
  },
  {
   "cell_type": "code",
   "execution_count": 4,
   "metadata": {},
   "outputs": [],
   "source": [
    "g = 9.81 # gravité\n",
    "r = 998 # densité de l'eau en Kg/m^3\n",
    "ra = 1.2 # densité de l'air en Kg/m^3\n",
    "Patm = 101325 # pression atmosphérique"
   ]
  },
  {
   "cell_type": "markdown",
   "metadata": {},
   "source": [
    "## Calcul théorique"
   ]
  },
  {
   "cell_type": "markdown",
   "metadata": {},
   "source": [
    "### Vitesse initiale - en sortie de rampe"
   ]
  },
  {
   "cell_type": "code",
   "execution_count": 5,
   "metadata": {},
   "outputs": [],
   "source": [
    "Ax = (Po*Section_goulot-(Masse_fusee_vide+1000*Veo)*g*np.cos((90-a)*np.pi/180))/(Masse_fusee_vide+1000*Veo) # Accélération suivant x\n",
    "\n",
    "t = np.sqrt(2*lr/Ax)\n",
    "\n",
    "Vx = Ax*t # Vitesse au lancement"
   ]
  },
  {
   "cell_type": "markdown",
   "metadata": {},
   "source": [
    "#### Supplémentaire (éventuellement à supprimer)"
   ]
  },
  {
   "cell_type": "code",
   "execution_count": 24,
   "metadata": {},
   "outputs": [],
   "source": [
    "Ax_g = Ax/g # en G\n",
    "Vx_kmh = Vx * 3.6"
   ]
  },
  {
   "cell_type": "markdown",
   "metadata": {},
   "source": [
    "### Force de poussée - calcul du $\\beta$"
   ]
  },
  {
   "cell_type": "code",
   "execution_count": 6,
   "metadata": {},
   "outputs": [],
   "source": [
    "beta = r*(1 - ((Section_goulot/Section_bouteille)**2))"
   ]
  },
  {
   "cell_type": "markdown",
   "metadata": {},
   "source": [
    "## Colonne 1 : Volume air en mètres cubes"
   ]
  },
  {
   "cell_type": "code",
   "execution_count": 7,
   "metadata": {},
   "outputs": [],
   "source": [
    "volumes_air = [Vb - Veo]\n",
    "volumes_air_final = (Po + Patm)*(Vb-Veo)/Patm\n",
    "for i in range(28) :\n",
    "    volumes_air.append(volumes_air[i] + (Vb-volumes_air[0])/29)"
   ]
  },
  {
   "cell_type": "markdown",
   "metadata": {},
   "source": [
    "### Frontière entre les deux phases et donc ajout de deux lignes avec la valeur Vb"
   ]
  },
  {
   "cell_type": "code",
   "execution_count": 8,
   "metadata": {},
   "outputs": [],
   "source": [
    "volumes_air.append(Vb)\n",
    "volumes_air.append(Vb)"
   ]
  },
  {
   "cell_type": "code",
   "execution_count": 9,
   "metadata": {},
   "outputs": [],
   "source": [
    "for i in range(30,48) :\n",
    "    volumes_air.append(volumes_air[i] + (volumes_air_final-volumes_air[30])/19)"
   ]
  },
  {
   "cell_type": "code",
   "execution_count": 10,
   "metadata": {},
   "outputs": [],
   "source": [
    "volumes_air.append(volumes_air_final)"
   ]
  },
  {
   "cell_type": "code",
   "execution_count": 13,
   "metadata": {},
   "outputs": [
    {
     "data": {
      "text/plain": [
       "50"
      ]
     },
     "execution_count": 13,
     "metadata": {},
     "output_type": "execute_result"
    }
   ],
   "source": [
    "len(volumes_air)"
   ]
  },
  {
   "cell_type": "markdown",
   "metadata": {},
   "source": [
    "## Colonne 2 : Pression air en pascal"
   ]
  },
  {
   "cell_type": "code",
   "execution_count": 38,
   "metadata": {},
   "outputs": [],
   "source": [
    "pression_air = list()\n",
    "for i in range(len(volumes_air)) : \n",
    "    pression_air.append(((Po + Patm)*(Vb-Veo)/volumes_air[i])-Patm)"
   ]
  },
  {
   "cell_type": "markdown",
   "metadata": {},
   "source": [
    "## Colonne 4 : Vitesse en m/s"
   ]
  },
  {
   "cell_type": "markdown",
   "metadata": {},
   "source": [
    "### Phase 1"
   ]
  },
  {
   "cell_type": "code",
   "execution_count": 40,
   "metadata": {},
   "outputs": [],
   "source": [
    "vitesse = list()\n",
    "for i in range(30) :\n",
    "    vitesse.append(np.sqrt(2*pression_air[i]/beta))"
   ]
  },
  {
   "cell_type": "markdown",
   "metadata": {},
   "source": [
    "### Phase 2 : Formule à confirmer"
   ]
  },
  {
   "cell_type": "code",
   "execution_count": 44,
   "metadata": {},
   "outputs": [],
   "source": [
    "for i in range(20) :\n",
    "    vitesse.append(np.sqrt(2*pression_air[i+30]/ra))"
   ]
  },
  {
   "cell_type": "markdown",
   "metadata": {},
   "source": [
    "## Colonne 3 : Temps en secondes"
   ]
  },
  {
   "cell_type": "markdown",
   "metadata": {},
   "source": [
    "### Phase 1"
   ]
  },
  {
   "cell_type": "code",
   "execution_count": 23,
   "metadata": {},
   "outputs": [],
   "source": [
    "temps = list()\n",
    "for i in range(30) : \n",
    "    temps.append(((2/3)*volumes_air[i]**1.5 - (2/3)*(Vb-Veo)**1.5)/(Section_goulot*np.sqrt(2*Po*(Vb-Veo)/beta)))"
   ]
  },
  {
   "cell_type": "markdown",
   "metadata": {},
   "source": [
    "### Phase intermédiaire"
   ]
  },
  {
   "cell_type": "code",
   "execution_count": 35,
   "metadata": {},
   "outputs": [],
   "source": [
    "temps.append((((2/3)*volumes_air[30]**1.5 - (2/3)*(Vb)**1.5)/(Section_goulot*np.sqrt(2*Po*(Vb-Veo)/beta)))+temps[29])"
   ]
  },
  {
   "cell_type": "markdown",
   "metadata": {},
   "source": [
    "### Phase 2"
   ]
  },
  {
   "cell_type": "code",
   "execution_count": 50,
   "metadata": {},
   "outputs": [],
   "source": [
    "for i in range(19) : \n",
    "    temps.append(temps[30+i]+((volumes_air[31+i]-volumes_air[30+i])/(Section_goulot*((vitesse[31+i]+vitesse[30+i])/2))))"
   ]
  },
  {
   "cell_type": "markdown",
   "metadata": {},
   "source": [
    "### Phase intermédiaire"
   ]
  },
  {
   "cell_type": "code",
   "execution_count": 55,
   "metadata": {},
   "outputs": [],
   "source": [
    "temps.append(temps[49])"
   ]
  },
  {
   "cell_type": "code",
   "execution_count": 57,
   "metadata": {},
   "outputs": [],
   "source": [
    "temps.append(temps[50]+0.01)"
   ]
  },
  {
   "cell_type": "markdown",
   "metadata": {},
   "source": [
    "### Phase 3"
   ]
  },
  {
   "cell_type": "code",
   "execution_count": 59,
   "metadata": {},
   "outputs": [],
   "source": [
    "for i in range(547) :\n",
    "    temps.append(temps[i + 51]+ 0.05)"
   ]
  },
  {
   "cell_type": "markdown",
   "metadata": {},
   "source": [
    "## Colonne 5 : Poussée en newton"
   ]
  },
  {
   "cell_type": "markdown",
   "metadata": {},
   "source": [
    "### Phase 1"
   ]
  },
  {
   "cell_type": "code",
   "execution_count": 72,
   "metadata": {},
   "outputs": [],
   "source": [
    "poussee = list()\n",
    "for i in range(30) : \n",
    "    poussee.append(r*Section_goulot*vitesse[i]**2) "
   ]
  },
  {
   "cell_type": "markdown",
   "metadata": {},
   "source": [
    "### Phase 2"
   ]
  },
  {
   "cell_type": "code",
   "execution_count": 73,
   "metadata": {},
   "outputs": [],
   "source": [
    "for i in range(20) :\n",
    "    poussee.append(ra*Section_goulot*vitesse[30+i]**2)"
   ]
  },
  {
   "cell_type": "markdown",
   "metadata": {},
   "source": [
    "### Eléments supplémentaires"
   ]
  },
  {
   "cell_type": "code",
   "execution_count": 143,
   "metadata": {},
   "outputs": [],
   "source": [
    "for i in range(549) :\n",
    "    poussee.append(0)"
   ]
  },
  {
   "cell_type": "markdown",
   "metadata": {},
   "source": [
    "## Colonne 7 : Masse de la fusée"
   ]
  },
  {
   "cell_type": "markdown",
   "metadata": {},
   "source": [
    "### Phase 1"
   ]
  },
  {
   "cell_type": "code",
   "execution_count": 77,
   "metadata": {},
   "outputs": [],
   "source": [
    "masse_fusee = list()\n",
    "for i in range(30) :\n",
    "    masse_fusee.append(Masse_fusee_vide+r*(Vb-volumes_air[i]))"
   ]
  },
  {
   "cell_type": "markdown",
   "metadata": {},
   "source": [
    "### Phase 2"
   ]
  },
  {
   "cell_type": "code",
   "execution_count": 79,
   "metadata": {},
   "outputs": [],
   "source": [
    "for i in range(569) :\n",
    "    masse_fusee.append(Masse_fusee_vide)"
   ]
  },
  {
   "cell_type": "markdown",
   "metadata": {},
   "source": [
    "## Colonne 6 + 8 + 9 : Inclinaison rampe de lancement + Vitesse de la fusée + Résistance de l'air"
   ]
  },
  {
   "cell_type": "markdown",
   "metadata": {},
   "source": [
    "### Premier élément"
   ]
  },
  {
   "cell_type": "code",
   "execution_count": 171,
   "metadata": {},
   "outputs": [],
   "source": [
    "inclinaison_rampe=[a]\n",
    "vitesse_fusee = [Vx]\n",
    "resistance_air = list()"
   ]
  },
  {
   "cell_type": "markdown",
   "metadata": {},
   "source": [
    "### Phase 1"
   ]
  },
  {
   "cell_type": "code",
   "execution_count": 172,
   "metadata": {},
   "outputs": [],
   "source": [
    "for i in range(29) :\n",
    "    inclinaison_rampe.append(inclinaison_rampe[i]-np.arctan(g*np.cos(inclinaison_rampe[i]*np.pi/180)*(temps[i+1]-temps[i])/vitesse_fusee[i])*180/np.pi)\n",
    "\n",
    "    resistance_air.append(0.5*ra*Section_bouteille*Cx*(vitesse_fusee[i]**2)) \n",
    "    \n",
    "    vitesse_fusee.append(vitesse_fusee[i]+((poussee[i] - resistance_air[i])/(Masse_fusee_vide + r*(Vb-volumes_air[i+1])) - g*np.sin(inclinaison_rampe[i+1]*np.pi/180))*(temps[i+1]-temps[i]))"
   ]
  },
  {
   "cell_type": "code",
   "execution_count": 173,
   "metadata": {},
   "outputs": [],
   "source": [
    "resistance_air.append(0.5*ra*Section_bouteille*Cx*(vitesse_fusee[29]**2))"
   ]
  },
  {
   "cell_type": "markdown",
   "metadata": {},
   "source": [
    "### Phase intermédiaire"
   ]
  },
  {
   "cell_type": "code",
   "execution_count": 174,
   "metadata": {},
   "outputs": [],
   "source": [
    "inclinaison_rampe.append(inclinaison_rampe[29]-np.arctan(g*np.cos(inclinaison_rampe[29]*np.pi/180)*(temps[30]-temps[29])/vitesse_fusee[29])*180/np.pi)\n",
    "vitesse_fusee.append(vitesse_fusee[29]+(poussee[30]/Masse_fusee_vide)*(temps[30]-temps[29]))\n",
    "resistance_air.append(0.5*ra*Section_bouteille*Cx*(vitesse_fusee[30]**2))"
   ]
  },
  {
   "cell_type": "markdown",
   "metadata": {},
   "source": [
    "### Phase 2"
   ]
  },
  {
   "cell_type": "code",
   "execution_count": 175,
   "metadata": {},
   "outputs": [],
   "source": [
    "for i in range(19) :\n",
    "    inclinaison_rampe.append(inclinaison_rampe[i+30]-np.arctan(g*np.cos(inclinaison_rampe[i+30]*np.pi/180)*(temps[i+31]-temps[i+30])/vitesse_fusee[i+30])*180/np.pi)\n",
    "\n",
    "    vitesse_fusee.append(np.abs(vitesse_fusee[i+30]+((poussee[i+31]-resistance_air[i+30])/Masse_fusee_vide-g*np.sin(inclinaison_rampe[i+31]*np.pi/180))*(temps[i+31]-temps[i+30])))\n",
    "\n",
    "    resistance_air.append(0.5*ra*Section_bouteille*Cx*(vitesse_fusee[i+31]**2))"
   ]
  },
  {
   "cell_type": "markdown",
   "metadata": {},
   "source": [
    "### Phase 3"
   ]
  },
  {
   "cell_type": "code",
   "execution_count": 176,
   "metadata": {},
   "outputs": [],
   "source": [
    "for i in range(549) :\n",
    "    if vitesse_fusee[-2] < vitesse_fusee[-1] :\n",
    "        inclinaison_rampe.append(-np.abs(inclinaison_rampe[-1]-np.arctan((g*np.cos(inclinaison_rampe[-1]*np.pi/180)*(temps[49+i]-temps[48+i]))/vitesse_fusee[-1])*180/np.pi))\n",
    "    else : \n",
    "        inclinaison_rampe.append(inclinaison_rampe[-1]-np.abs(inclinaison_rampe[-1]-np.arctan((g*np.cos(inclinaison_rampe[-1]*np.pi/180)*(temps[49+i]-temps[48+i]))/vitesse_fusee[-1])*180/np.pi))\n",
    "    \n",
    "    vitesse_fusee.append(np.abs(vitesse_fusee[-1]+((poussee[49+i]-resistance_air[48+i])/Masse_fusee_vide -g*np.sin(inclinaison_rampe[-1]*np.pi/180))*(temps[49+i]-temps[48+i])))\n",
    "\n",
    "    resistance_air.append(0.5*ra*Section_bouteille*Cx*(vitesse_fusee[-1]**2))"
   ]
  },
  {
   "cell_type": "markdown",
   "metadata": {},
   "source": [
    "## Colonne 10 + 11 : X(m) et Y(m)"
   ]
  },
  {
   "cell_type": "code",
   "execution_count": 179,
   "metadata": {},
   "outputs": [],
   "source": [
    "x = [0]\n",
    "y = [0]\n",
    "for i in range(1,599) :\n",
    "    x.append(x[i-1]+vitesse_fusee[i]*(temps[i]-temps[i-1])*np.cos(inclinaison_rampe[i]*np.pi/180))\n",
    "    y.append(y[i-1]+vitesse_fusee[i]*(temps[i]-temps[i-1])*np.sin(inclinaison_rampe[i]*np.pi/180))"
   ]
  },
  {
   "cell_type": "markdown",
   "metadata": {},
   "source": [
    "## Colonne 12 : Accélération de la fusée"
   ]
  },
  {
   "cell_type": "code",
   "execution_count": 183,
   "metadata": {},
   "outputs": [],
   "source": [
    "acceleration = [0]\n",
    "for i in range(1,599) :\n",
    "    if i ==30 or i == 50 : \n",
    "        acceleration.append(acceleration[-1]) # mettre un doublon à la frontière\n",
    "    else : \n",
    "        acceleration.append((vitesse_fusee[i]-vitesse_fusee[i-1])/(temps[i]-temps[i-1]))"
   ]
  },
  {
   "cell_type": "markdown",
   "metadata": {},
   "source": [
    "## Mettre toutes les listes à la même taille"
   ]
  },
  {
   "cell_type": "code",
   "execution_count": 185,
   "metadata": {},
   "outputs": [
    {
     "data": {
      "text/plain": [
       "(50, 50, 50)"
      ]
     },
     "execution_count": 185,
     "metadata": {},
     "output_type": "execute_result"
    }
   ],
   "source": [
    "len(volumes_air),len(pression_air),len(vitesse)"
   ]
  },
  {
   "cell_type": "code",
   "execution_count": 186,
   "metadata": {},
   "outputs": [],
   "source": [
    "for i in range(549) :\n",
    "    volumes_air.append(0)\n",
    "    pression_air.append(0)\n",
    "    vitesse.append(0)"
   ]
  },
  {
   "cell_type": "markdown",
   "metadata": {},
   "source": [
    "## Création du tableau complet"
   ]
  },
  {
   "cell_type": "code",
   "execution_count": 198,
   "metadata": {},
   "outputs": [],
   "source": [
    "my_data = np.array([volumes_air,pression_air,temps,vitesse,poussee,masse_fusee,inclinaison_rampe,vitesse_fusee,resistance_air,x,y,acceleration]).T"
   ]
  },
  {
   "cell_type": "code",
   "execution_count": 200,
   "metadata": {},
   "outputs": [
    {
     "data": {
      "text/html": [
       "<div>\n",
       "<style scoped>\n",
       "    .dataframe tbody tr th:only-of-type {\n",
       "        vertical-align: middle;\n",
       "    }\n",
       "\n",
       "    .dataframe tbody tr th {\n",
       "        vertical-align: top;\n",
       "    }\n",
       "\n",
       "    .dataframe thead th {\n",
       "        text-align: right;\n",
       "    }\n",
       "</style>\n",
       "<table border=\"1\" class=\"dataframe\">\n",
       "  <thead>\n",
       "    <tr style=\"text-align: right;\">\n",
       "      <th></th>\n",
       "      <th>Volume d'air</th>\n",
       "      <th>Pression d'air</th>\n",
       "      <th>Temps</th>\n",
       "      <th>Vitesse</th>\n",
       "      <th>Poussée</th>\n",
       "      <th>Masse de la fusée</th>\n",
       "      <th>Inclinaison</th>\n",
       "      <th>Vitesse de la fusée</th>\n",
       "      <th>Résistance de l'air</th>\n",
       "      <th>x(t)</th>\n",
       "      <th>y(t)</th>\n",
       "      <th>Accélération</th>\n",
       "    </tr>\n",
       "  </thead>\n",
       "  <tbody>\n",
       "    <tr>\n",
       "      <th>0</th>\n",
       "      <td>0.001350</td>\n",
       "      <td>1000000.000000</td>\n",
       "      <td>0.000000</td>\n",
       "      <td>44.768489</td>\n",
       "      <td>127.247809</td>\n",
       "      <td>1.148700</td>\n",
       "      <td>89.000000</td>\n",
       "      <td>4.474905</td>\n",
       "      <td>0.007475</td>\n",
       "      <td>0.000000</td>\n",
       "      <td>0.000000</td>\n",
       "      <td>0.000000</td>\n",
       "    </tr>\n",
       "    <tr>\n",
       "      <th>1</th>\n",
       "      <td>0.001372</td>\n",
       "      <td>982013.536432</td>\n",
       "      <td>0.007902</td>\n",
       "      <td>44.364049</td>\n",
       "      <td>124.959071</td>\n",
       "      <td>1.126331</td>\n",
       "      <td>88.982677</td>\n",
       "      <td>5.290125</td>\n",
       "      <td>0.010446</td>\n",
       "      <td>0.000742</td>\n",
       "      <td>0.041798</td>\n",
       "      <td>103.160407</td>\n",
       "    </tr>\n",
       "    <tr>\n",
       "      <th>2</th>\n",
       "      <td>0.001395</td>\n",
       "      <td>964605.129790</td>\n",
       "      <td>0.015870</td>\n",
       "      <td>43.969064</td>\n",
       "      <td>122.743889</td>\n",
       "      <td>1.103962</td>\n",
       "      <td>88.967647</td>\n",
       "      <td>6.113728</td>\n",
       "      <td>0.013952</td>\n",
       "      <td>0.001620</td>\n",
       "      <td>0.090500</td>\n",
       "      <td>103.373583</td>\n",
       "    </tr>\n",
       "    <tr>\n",
       "      <th>3</th>\n",
       "      <td>0.001417</td>\n",
       "      <td>947747.354015</td>\n",
       "      <td>0.023901</td>\n",
       "      <td>43.583161</td>\n",
       "      <td>120.598774</td>\n",
       "      <td>1.081593</td>\n",
       "      <td>88.954344</td>\n",
       "      <td>6.946301</td>\n",
       "      <td>0.018011</td>\n",
       "      <td>0.002638</td>\n",
       "      <td>0.146280</td>\n",
       "      <td>103.663083</td>\n",
       "    </tr>\n",
       "    <tr>\n",
       "      <th>4</th>\n",
       "      <td>0.001440</td>\n",
       "      <td>931414.491018</td>\n",
       "      <td>0.031997</td>\n",
       "      <td>43.205987</td>\n",
       "      <td>118.520453</td>\n",
       "      <td>1.059224</td>\n",
       "      <td>88.942390</td>\n",
       "      <td>7.788457</td>\n",
       "      <td>0.022642</td>\n",
       "      <td>0.003802</td>\n",
       "      <td>0.209319</td>\n",
       "      <td>104.030432</td>\n",
       "    </tr>\n",
       "    <tr>\n",
       "      <th>...</th>\n",
       "      <td>...</td>\n",
       "      <td>...</td>\n",
       "      <td>...</td>\n",
       "      <td>...</td>\n",
       "      <td>...</td>\n",
       "      <td>...</td>\n",
       "      <td>...</td>\n",
       "      <td>...</td>\n",
       "      <td>...</td>\n",
       "      <td>...</td>\n",
       "      <td>...</td>\n",
       "      <td>...</td>\n",
       "    </tr>\n",
       "    <tr>\n",
       "      <th>594</th>\n",
       "      <td>0.000000</td>\n",
       "      <td>0.000000</td>\n",
       "      <td>28.270883</td>\n",
       "      <td>0.000000</td>\n",
       "      <td>0.000000</td>\n",
       "      <td>0.500000</td>\n",
       "      <td>-86.798178</td>\n",
       "      <td>112.430410</td>\n",
       "      <td>4.718335</td>\n",
       "      <td>534.107993</td>\n",
       "      <td>-2163.578608</td>\n",
       "      <td>0.364154</td>\n",
       "    </tr>\n",
       "    <tr>\n",
       "      <th>595</th>\n",
       "      <td>0.000000</td>\n",
       "      <td>0.000000</td>\n",
       "      <td>28.320883</td>\n",
       "      <td>0.000000</td>\n",
       "      <td>0.000000</td>\n",
       "      <td>0.500000</td>\n",
       "      <td>-86.812139</td>\n",
       "      <td>112.448470</td>\n",
       "      <td>4.719851</td>\n",
       "      <td>534.420656</td>\n",
       "      <td>-2169.192331</td>\n",
       "      <td>0.361207</td>\n",
       "    </tr>\n",
       "    <tr>\n",
       "      <th>596</th>\n",
       "      <td>0.000000</td>\n",
       "      <td>0.000000</td>\n",
       "      <td>28.370883</td>\n",
       "      <td>0.000000</td>\n",
       "      <td>0.000000</td>\n",
       "      <td>0.500000</td>\n",
       "      <td>-86.826038</td>\n",
       "      <td>112.466384</td>\n",
       "      <td>4.721355</td>\n",
       "      <td>534.732007</td>\n",
       "      <td>-2174.807025</td>\n",
       "      <td>0.358283</td>\n",
       "    </tr>\n",
       "    <tr>\n",
       "      <th>597</th>\n",
       "      <td>0.000000</td>\n",
       "      <td>0.000000</td>\n",
       "      <td>28.420883</td>\n",
       "      <td>0.000000</td>\n",
       "      <td>0.000000</td>\n",
       "      <td>0.500000</td>\n",
       "      <td>-86.839873</td>\n",
       "      <td>112.484153</td>\n",
       "      <td>4.722847</td>\n",
       "      <td>535.042050</td>\n",
       "      <td>-2180.422680</td>\n",
       "      <td>0.355382</td>\n",
       "    </tr>\n",
       "    <tr>\n",
       "      <th>598</th>\n",
       "      <td>0.000000</td>\n",
       "      <td>0.000000</td>\n",
       "      <td>28.470883</td>\n",
       "      <td>0.000000</td>\n",
       "      <td>0.000000</td>\n",
       "      <td>0.500000</td>\n",
       "      <td>-86.853646</td>\n",
       "      <td>112.501779</td>\n",
       "      <td>4.724327</td>\n",
       "      <td>535.350793</td>\n",
       "      <td>-2186.039290</td>\n",
       "      <td>0.352503</td>\n",
       "    </tr>\n",
       "  </tbody>\n",
       "</table>\n",
       "<p>599 rows × 12 columns</p>\n",
       "</div>"
      ],
      "text/plain": [
       "     Volume d'air  Pression d'air      Temps    Vitesse     Poussée  \\\n",
       "0        0.001350  1000000.000000   0.000000  44.768489  127.247809   \n",
       "1        0.001372   982013.536432   0.007902  44.364049  124.959071   \n",
       "2        0.001395   964605.129790   0.015870  43.969064  122.743889   \n",
       "3        0.001417   947747.354015   0.023901  43.583161  120.598774   \n",
       "4        0.001440   931414.491018   0.031997  43.205987  118.520453   \n",
       "..            ...             ...        ...        ...         ...   \n",
       "594      0.000000        0.000000  28.270883   0.000000    0.000000   \n",
       "595      0.000000        0.000000  28.320883   0.000000    0.000000   \n",
       "596      0.000000        0.000000  28.370883   0.000000    0.000000   \n",
       "597      0.000000        0.000000  28.420883   0.000000    0.000000   \n",
       "598      0.000000        0.000000  28.470883   0.000000    0.000000   \n",
       "\n",
       "     Masse de la fusée  Inclinaison  Vitesse de la fusée  Résistance de l'air  \\\n",
       "0             1.148700    89.000000             4.474905             0.007475   \n",
       "1             1.126331    88.982677             5.290125             0.010446   \n",
       "2             1.103962    88.967647             6.113728             0.013952   \n",
       "3             1.081593    88.954344             6.946301             0.018011   \n",
       "4             1.059224    88.942390             7.788457             0.022642   \n",
       "..                 ...          ...                  ...                  ...   \n",
       "594           0.500000   -86.798178           112.430410             4.718335   \n",
       "595           0.500000   -86.812139           112.448470             4.719851   \n",
       "596           0.500000   -86.826038           112.466384             4.721355   \n",
       "597           0.500000   -86.839873           112.484153             4.722847   \n",
       "598           0.500000   -86.853646           112.501779             4.724327   \n",
       "\n",
       "           x(t)         y(t)  Accélération  \n",
       "0      0.000000     0.000000      0.000000  \n",
       "1      0.000742     0.041798    103.160407  \n",
       "2      0.001620     0.090500    103.373583  \n",
       "3      0.002638     0.146280    103.663083  \n",
       "4      0.003802     0.209319    104.030432  \n",
       "..          ...          ...           ...  \n",
       "594  534.107993 -2163.578608      0.364154  \n",
       "595  534.420656 -2169.192331      0.361207  \n",
       "596  534.732007 -2174.807025      0.358283  \n",
       "597  535.042050 -2180.422680      0.355382  \n",
       "598  535.350793 -2186.039290      0.352503  \n",
       "\n",
       "[599 rows x 12 columns]"
      ]
     },
     "execution_count": 200,
     "metadata": {},
     "output_type": "execute_result"
    }
   ],
   "source": [
    "colonnes = [\"Volume d'air\",\"Pression d'air\",\"Temps\",\"Vitesse\",\"Poussée\",\"Masse de la fusée\",\"Inclinaison\",\"Vitesse de la fusée\",\"Résistance de l'air\",\"x(t)\",\"y(t)\",\"Accélération\"]\n",
    "\n",
    "tableau_complet = pd.DataFrame(my_data, columns=colonnes)\n",
    "tableau_complet"
   ]
  }
 ],
 "metadata": {
  "kernelspec": {
   "display_name": "Python 3.8.13 ('base')",
   "language": "python",
   "name": "python3"
  },
  "language_info": {
   "codemirror_mode": {
    "name": "ipython",
    "version": 3
   },
   "file_extension": ".py",
   "mimetype": "text/x-python",
   "name": "python",
   "nbconvert_exporter": "python",
   "pygments_lexer": "ipython3",
   "version": "3.8.13"
  },
  "orig_nbformat": 4,
  "vscode": {
   "interpreter": {
    "hash": "631af202ec7c40e141c49d63cac6c8cb664469fed6e4d5ddc6436b49edc60500"
   }
  }
 },
 "nbformat": 4,
 "nbformat_minor": 2
}
